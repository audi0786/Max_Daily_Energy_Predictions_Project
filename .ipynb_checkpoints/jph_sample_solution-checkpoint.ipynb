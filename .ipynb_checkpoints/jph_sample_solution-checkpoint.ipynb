{
 "cells": [
  {
   "cell_type": "markdown",
   "metadata": {},
   "source": [
    "# KC Housing Data - Linear Regression Modelling Example"
   ]
  },
  {
   "cell_type": "markdown",
   "metadata": {},
   "source": [
    "*Note: This is my (JP Hwang) own approach only for demonstration purposes; it is not commissioned or endorsed by Flatiron or Academy Xi.*"
   ]
  },
  {
   "cell_type": "markdown",
   "metadata": {},
   "source": [
    "## Data exploration / Getting started"
   ]
  },
  {
   "cell_type": "markdown",
   "metadata": {},
   "source": [
    "### Load libraries and data"
   ]
  },
  {
   "cell_type": "code",
   "execution_count": 1,
   "metadata": {},
   "outputs": [],
   "source": [
    "import numpy as np\n",
    "import pandas as pd\n",
    "import seaborn as sns\n",
    "import matplotlib.pyplot as plt"
   ]
  },
  {
   "cell_type": "code",
   "execution_count": 2,
   "metadata": {},
   "outputs": [
    {
     "data": {
      "text/html": [
       "<div>\n",
       "<style scoped>\n",
       "    .dataframe tbody tr th:only-of-type {\n",
       "        vertical-align: middle;\n",
       "    }\n",
       "\n",
       "    .dataframe tbody tr th {\n",
       "        vertical-align: top;\n",
       "    }\n",
       "\n",
       "    .dataframe thead th {\n",
       "        text-align: right;\n",
       "    }\n",
       "</style>\n",
       "<table border=\"1\" class=\"dataframe\">\n",
       "  <thead>\n",
       "    <tr style=\"text-align: right;\">\n",
       "      <th></th>\n",
       "      <th>id</th>\n",
       "      <th>date</th>\n",
       "      <th>price</th>\n",
       "      <th>bedrooms</th>\n",
       "      <th>bathrooms</th>\n",
       "      <th>sqft_living</th>\n",
       "      <th>sqft_lot</th>\n",
       "      <th>floors</th>\n",
       "      <th>waterfront</th>\n",
       "      <th>view</th>\n",
       "      <th>...</th>\n",
       "      <th>grade</th>\n",
       "      <th>sqft_above</th>\n",
       "      <th>sqft_basement</th>\n",
       "      <th>yr_built</th>\n",
       "      <th>yr_renovated</th>\n",
       "      <th>zipcode</th>\n",
       "      <th>lat</th>\n",
       "      <th>long</th>\n",
       "      <th>sqft_living15</th>\n",
       "      <th>sqft_lot15</th>\n",
       "    </tr>\n",
       "  </thead>\n",
       "  <tbody>\n",
       "    <tr>\n",
       "      <th>0</th>\n",
       "      <td>7129300520</td>\n",
       "      <td>10/13/2014</td>\n",
       "      <td>221900.0</td>\n",
       "      <td>3</td>\n",
       "      <td>1.00</td>\n",
       "      <td>1180</td>\n",
       "      <td>5650</td>\n",
       "      <td>1.0</td>\n",
       "      <td>NaN</td>\n",
       "      <td>0.0</td>\n",
       "      <td>...</td>\n",
       "      <td>7</td>\n",
       "      <td>1180</td>\n",
       "      <td>0.0</td>\n",
       "      <td>1955</td>\n",
       "      <td>0.0</td>\n",
       "      <td>98178</td>\n",
       "      <td>47.5112</td>\n",
       "      <td>-122.257</td>\n",
       "      <td>1340</td>\n",
       "      <td>5650</td>\n",
       "    </tr>\n",
       "    <tr>\n",
       "      <th>1</th>\n",
       "      <td>6414100192</td>\n",
       "      <td>12/9/2014</td>\n",
       "      <td>538000.0</td>\n",
       "      <td>3</td>\n",
       "      <td>2.25</td>\n",
       "      <td>2570</td>\n",
       "      <td>7242</td>\n",
       "      <td>2.0</td>\n",
       "      <td>0.0</td>\n",
       "      <td>0.0</td>\n",
       "      <td>...</td>\n",
       "      <td>7</td>\n",
       "      <td>2170</td>\n",
       "      <td>400.0</td>\n",
       "      <td>1951</td>\n",
       "      <td>1991.0</td>\n",
       "      <td>98125</td>\n",
       "      <td>47.7210</td>\n",
       "      <td>-122.319</td>\n",
       "      <td>1690</td>\n",
       "      <td>7639</td>\n",
       "    </tr>\n",
       "    <tr>\n",
       "      <th>2</th>\n",
       "      <td>5631500400</td>\n",
       "      <td>2/25/2015</td>\n",
       "      <td>180000.0</td>\n",
       "      <td>2</td>\n",
       "      <td>1.00</td>\n",
       "      <td>770</td>\n",
       "      <td>10000</td>\n",
       "      <td>1.0</td>\n",
       "      <td>0.0</td>\n",
       "      <td>0.0</td>\n",
       "      <td>...</td>\n",
       "      <td>6</td>\n",
       "      <td>770</td>\n",
       "      <td>0.0</td>\n",
       "      <td>1933</td>\n",
       "      <td>NaN</td>\n",
       "      <td>98028</td>\n",
       "      <td>47.7379</td>\n",
       "      <td>-122.233</td>\n",
       "      <td>2720</td>\n",
       "      <td>8062</td>\n",
       "    </tr>\n",
       "    <tr>\n",
       "      <th>3</th>\n",
       "      <td>2487200875</td>\n",
       "      <td>12/9/2014</td>\n",
       "      <td>604000.0</td>\n",
       "      <td>4</td>\n",
       "      <td>3.00</td>\n",
       "      <td>1960</td>\n",
       "      <td>5000</td>\n",
       "      <td>1.0</td>\n",
       "      <td>0.0</td>\n",
       "      <td>0.0</td>\n",
       "      <td>...</td>\n",
       "      <td>7</td>\n",
       "      <td>1050</td>\n",
       "      <td>910.0</td>\n",
       "      <td>1965</td>\n",
       "      <td>0.0</td>\n",
       "      <td>98136</td>\n",
       "      <td>47.5208</td>\n",
       "      <td>-122.393</td>\n",
       "      <td>1360</td>\n",
       "      <td>5000</td>\n",
       "    </tr>\n",
       "    <tr>\n",
       "      <th>4</th>\n",
       "      <td>1954400510</td>\n",
       "      <td>2/18/2015</td>\n",
       "      <td>510000.0</td>\n",
       "      <td>3</td>\n",
       "      <td>2.00</td>\n",
       "      <td>1680</td>\n",
       "      <td>8080</td>\n",
       "      <td>1.0</td>\n",
       "      <td>0.0</td>\n",
       "      <td>0.0</td>\n",
       "      <td>...</td>\n",
       "      <td>8</td>\n",
       "      <td>1680</td>\n",
       "      <td>0.0</td>\n",
       "      <td>1987</td>\n",
       "      <td>0.0</td>\n",
       "      <td>98074</td>\n",
       "      <td>47.6168</td>\n",
       "      <td>-122.045</td>\n",
       "      <td>1800</td>\n",
       "      <td>7503</td>\n",
       "    </tr>\n",
       "  </tbody>\n",
       "</table>\n",
       "<p>5 rows × 21 columns</p>\n",
       "</div>"
      ],
      "text/plain": [
       "           id        date     price  bedrooms  bathrooms  sqft_living  \\\n",
       "0  7129300520  10/13/2014  221900.0         3       1.00         1180   \n",
       "1  6414100192   12/9/2014  538000.0         3       2.25         2570   \n",
       "2  5631500400   2/25/2015  180000.0         2       1.00          770   \n",
       "3  2487200875   12/9/2014  604000.0         4       3.00         1960   \n",
       "4  1954400510   2/18/2015  510000.0         3       2.00         1680   \n",
       "\n",
       "   sqft_lot  floors  waterfront  view  ...  grade  sqft_above  sqft_basement  \\\n",
       "0      5650     1.0         NaN   0.0  ...      7        1180            0.0   \n",
       "1      7242     2.0         0.0   0.0  ...      7        2170          400.0   \n",
       "2     10000     1.0         0.0   0.0  ...      6         770            0.0   \n",
       "3      5000     1.0         0.0   0.0  ...      7        1050          910.0   \n",
       "4      8080     1.0         0.0   0.0  ...      8        1680            0.0   \n",
       "\n",
       "  yr_built  yr_renovated  zipcode      lat     long  sqft_living15  sqft_lot15  \n",
       "0     1955           0.0    98178  47.5112 -122.257           1340        5650  \n",
       "1     1951        1991.0    98125  47.7210 -122.319           1690        7639  \n",
       "2     1933           NaN    98028  47.7379 -122.233           2720        8062  \n",
       "3     1965           0.0    98136  47.5208 -122.393           1360        5000  \n",
       "4     1987           0.0    98074  47.6168 -122.045           1800        7503  \n",
       "\n",
       "[5 rows x 21 columns]"
      ]
     },
     "execution_count": 2,
     "metadata": {},
     "output_type": "execute_result"
    }
   ],
   "source": [
    "df = pd.read_csv('data/kc_house_data.csv')\n",
    "df.head()"
   ]
  },
  {
   "cell_type": "markdown",
   "metadata": {},
   "source": [
    "### Inspect Data"
   ]
  },
  {
   "cell_type": "code",
   "execution_count": 3,
   "metadata": {},
   "outputs": [
    {
     "name": "stdout",
     "output_type": "stream",
     "text": [
      "<class 'pandas.core.frame.DataFrame'>\n",
      "RangeIndex: 21597 entries, 0 to 21596\n",
      "Data columns (total 21 columns):\n",
      " #   Column         Non-Null Count  Dtype  \n",
      "---  ------         --------------  -----  \n",
      " 0   id             21597 non-null  int64  \n",
      " 1   date           21597 non-null  object \n",
      " 2   price          21597 non-null  float64\n",
      " 3   bedrooms       21597 non-null  int64  \n",
      " 4   bathrooms      21597 non-null  float64\n",
      " 5   sqft_living    21597 non-null  int64  \n",
      " 6   sqft_lot       21597 non-null  int64  \n",
      " 7   floors         21597 non-null  float64\n",
      " 8   waterfront     19221 non-null  float64\n",
      " 9   view           21534 non-null  float64\n",
      " 10  condition      21597 non-null  int64  \n",
      " 11  grade          21597 non-null  int64  \n",
      " 12  sqft_above     21597 non-null  int64  \n",
      " 13  sqft_basement  21597 non-null  object \n",
      " 14  yr_built       21597 non-null  int64  \n",
      " 15  yr_renovated   17755 non-null  float64\n",
      " 16  zipcode        21597 non-null  int64  \n",
      " 17  lat            21597 non-null  float64\n",
      " 18  long           21597 non-null  float64\n",
      " 19  sqft_living15  21597 non-null  int64  \n",
      " 20  sqft_lot15     21597 non-null  int64  \n",
      "dtypes: float64(8), int64(11), object(2)\n",
      "memory usage: 3.5+ MB\n"
     ]
    }
   ],
   "source": [
    "df.info()"
   ]
  },
  {
   "cell_type": "code",
   "execution_count": 4,
   "metadata": {},
   "outputs": [
    {
     "data": {
      "text/html": [
       "<div>\n",
       "<style scoped>\n",
       "    .dataframe tbody tr th:only-of-type {\n",
       "        vertical-align: middle;\n",
       "    }\n",
       "\n",
       "    .dataframe tbody tr th {\n",
       "        vertical-align: top;\n",
       "    }\n",
       "\n",
       "    .dataframe thead th {\n",
       "        text-align: right;\n",
       "    }\n",
       "</style>\n",
       "<table border=\"1\" class=\"dataframe\">\n",
       "  <thead>\n",
       "    <tr style=\"text-align: right;\">\n",
       "      <th></th>\n",
       "      <th>id</th>\n",
       "      <th>price</th>\n",
       "      <th>bedrooms</th>\n",
       "      <th>bathrooms</th>\n",
       "      <th>sqft_living</th>\n",
       "      <th>sqft_lot</th>\n",
       "      <th>floors</th>\n",
       "      <th>waterfront</th>\n",
       "      <th>view</th>\n",
       "      <th>condition</th>\n",
       "      <th>grade</th>\n",
       "      <th>sqft_above</th>\n",
       "      <th>yr_built</th>\n",
       "      <th>yr_renovated</th>\n",
       "      <th>zipcode</th>\n",
       "      <th>lat</th>\n",
       "      <th>long</th>\n",
       "      <th>sqft_living15</th>\n",
       "      <th>sqft_lot15</th>\n",
       "    </tr>\n",
       "  </thead>\n",
       "  <tbody>\n",
       "    <tr>\n",
       "      <th>count</th>\n",
       "      <td>2.159700e+04</td>\n",
       "      <td>2.159700e+04</td>\n",
       "      <td>21597.000000</td>\n",
       "      <td>21597.000000</td>\n",
       "      <td>21597.000000</td>\n",
       "      <td>2.159700e+04</td>\n",
       "      <td>21597.000000</td>\n",
       "      <td>19221.000000</td>\n",
       "      <td>21534.000000</td>\n",
       "      <td>21597.000000</td>\n",
       "      <td>21597.000000</td>\n",
       "      <td>21597.000000</td>\n",
       "      <td>21597.000000</td>\n",
       "      <td>17755.000000</td>\n",
       "      <td>21597.000000</td>\n",
       "      <td>21597.000000</td>\n",
       "      <td>21597.000000</td>\n",
       "      <td>21597.000000</td>\n",
       "      <td>21597.000000</td>\n",
       "    </tr>\n",
       "    <tr>\n",
       "      <th>mean</th>\n",
       "      <td>4.580474e+09</td>\n",
       "      <td>5.402966e+05</td>\n",
       "      <td>3.373200</td>\n",
       "      <td>2.115826</td>\n",
       "      <td>2080.321850</td>\n",
       "      <td>1.509941e+04</td>\n",
       "      <td>1.494096</td>\n",
       "      <td>0.007596</td>\n",
       "      <td>0.233863</td>\n",
       "      <td>3.409825</td>\n",
       "      <td>7.657915</td>\n",
       "      <td>1788.596842</td>\n",
       "      <td>1970.999676</td>\n",
       "      <td>83.636778</td>\n",
       "      <td>98077.951845</td>\n",
       "      <td>47.560093</td>\n",
       "      <td>-122.213982</td>\n",
       "      <td>1986.620318</td>\n",
       "      <td>12758.283512</td>\n",
       "    </tr>\n",
       "    <tr>\n",
       "      <th>std</th>\n",
       "      <td>2.876736e+09</td>\n",
       "      <td>3.673681e+05</td>\n",
       "      <td>0.926299</td>\n",
       "      <td>0.768984</td>\n",
       "      <td>918.106125</td>\n",
       "      <td>4.141264e+04</td>\n",
       "      <td>0.539683</td>\n",
       "      <td>0.086825</td>\n",
       "      <td>0.765686</td>\n",
       "      <td>0.650546</td>\n",
       "      <td>1.173200</td>\n",
       "      <td>827.759761</td>\n",
       "      <td>29.375234</td>\n",
       "      <td>399.946414</td>\n",
       "      <td>53.513072</td>\n",
       "      <td>0.138552</td>\n",
       "      <td>0.140724</td>\n",
       "      <td>685.230472</td>\n",
       "      <td>27274.441950</td>\n",
       "    </tr>\n",
       "    <tr>\n",
       "      <th>min</th>\n",
       "      <td>1.000102e+06</td>\n",
       "      <td>7.800000e+04</td>\n",
       "      <td>1.000000</td>\n",
       "      <td>0.500000</td>\n",
       "      <td>370.000000</td>\n",
       "      <td>5.200000e+02</td>\n",
       "      <td>1.000000</td>\n",
       "      <td>0.000000</td>\n",
       "      <td>0.000000</td>\n",
       "      <td>1.000000</td>\n",
       "      <td>3.000000</td>\n",
       "      <td>370.000000</td>\n",
       "      <td>1900.000000</td>\n",
       "      <td>0.000000</td>\n",
       "      <td>98001.000000</td>\n",
       "      <td>47.155900</td>\n",
       "      <td>-122.519000</td>\n",
       "      <td>399.000000</td>\n",
       "      <td>651.000000</td>\n",
       "    </tr>\n",
       "    <tr>\n",
       "      <th>25%</th>\n",
       "      <td>2.123049e+09</td>\n",
       "      <td>3.220000e+05</td>\n",
       "      <td>3.000000</td>\n",
       "      <td>1.750000</td>\n",
       "      <td>1430.000000</td>\n",
       "      <td>5.040000e+03</td>\n",
       "      <td>1.000000</td>\n",
       "      <td>0.000000</td>\n",
       "      <td>0.000000</td>\n",
       "      <td>3.000000</td>\n",
       "      <td>7.000000</td>\n",
       "      <td>1190.000000</td>\n",
       "      <td>1951.000000</td>\n",
       "      <td>0.000000</td>\n",
       "      <td>98033.000000</td>\n",
       "      <td>47.471100</td>\n",
       "      <td>-122.328000</td>\n",
       "      <td>1490.000000</td>\n",
       "      <td>5100.000000</td>\n",
       "    </tr>\n",
       "    <tr>\n",
       "      <th>50%</th>\n",
       "      <td>3.904930e+09</td>\n",
       "      <td>4.500000e+05</td>\n",
       "      <td>3.000000</td>\n",
       "      <td>2.250000</td>\n",
       "      <td>1910.000000</td>\n",
       "      <td>7.618000e+03</td>\n",
       "      <td>1.500000</td>\n",
       "      <td>0.000000</td>\n",
       "      <td>0.000000</td>\n",
       "      <td>3.000000</td>\n",
       "      <td>7.000000</td>\n",
       "      <td>1560.000000</td>\n",
       "      <td>1975.000000</td>\n",
       "      <td>0.000000</td>\n",
       "      <td>98065.000000</td>\n",
       "      <td>47.571800</td>\n",
       "      <td>-122.231000</td>\n",
       "      <td>1840.000000</td>\n",
       "      <td>7620.000000</td>\n",
       "    </tr>\n",
       "    <tr>\n",
       "      <th>75%</th>\n",
       "      <td>7.308900e+09</td>\n",
       "      <td>6.450000e+05</td>\n",
       "      <td>4.000000</td>\n",
       "      <td>2.500000</td>\n",
       "      <td>2550.000000</td>\n",
       "      <td>1.068500e+04</td>\n",
       "      <td>2.000000</td>\n",
       "      <td>0.000000</td>\n",
       "      <td>0.000000</td>\n",
       "      <td>4.000000</td>\n",
       "      <td>8.000000</td>\n",
       "      <td>2210.000000</td>\n",
       "      <td>1997.000000</td>\n",
       "      <td>0.000000</td>\n",
       "      <td>98118.000000</td>\n",
       "      <td>47.678000</td>\n",
       "      <td>-122.125000</td>\n",
       "      <td>2360.000000</td>\n",
       "      <td>10083.000000</td>\n",
       "    </tr>\n",
       "    <tr>\n",
       "      <th>max</th>\n",
       "      <td>9.900000e+09</td>\n",
       "      <td>7.700000e+06</td>\n",
       "      <td>33.000000</td>\n",
       "      <td>8.000000</td>\n",
       "      <td>13540.000000</td>\n",
       "      <td>1.651359e+06</td>\n",
       "      <td>3.500000</td>\n",
       "      <td>1.000000</td>\n",
       "      <td>4.000000</td>\n",
       "      <td>5.000000</td>\n",
       "      <td>13.000000</td>\n",
       "      <td>9410.000000</td>\n",
       "      <td>2015.000000</td>\n",
       "      <td>2015.000000</td>\n",
       "      <td>98199.000000</td>\n",
       "      <td>47.777600</td>\n",
       "      <td>-121.315000</td>\n",
       "      <td>6210.000000</td>\n",
       "      <td>871200.000000</td>\n",
       "    </tr>\n",
       "  </tbody>\n",
       "</table>\n",
       "</div>"
      ],
      "text/plain": [
       "                 id         price      bedrooms     bathrooms   sqft_living  \\\n",
       "count  2.159700e+04  2.159700e+04  21597.000000  21597.000000  21597.000000   \n",
       "mean   4.580474e+09  5.402966e+05      3.373200      2.115826   2080.321850   \n",
       "std    2.876736e+09  3.673681e+05      0.926299      0.768984    918.106125   \n",
       "min    1.000102e+06  7.800000e+04      1.000000      0.500000    370.000000   \n",
       "25%    2.123049e+09  3.220000e+05      3.000000      1.750000   1430.000000   \n",
       "50%    3.904930e+09  4.500000e+05      3.000000      2.250000   1910.000000   \n",
       "75%    7.308900e+09  6.450000e+05      4.000000      2.500000   2550.000000   \n",
       "max    9.900000e+09  7.700000e+06     33.000000      8.000000  13540.000000   \n",
       "\n",
       "           sqft_lot        floors    waterfront          view     condition  \\\n",
       "count  2.159700e+04  21597.000000  19221.000000  21534.000000  21597.000000   \n",
       "mean   1.509941e+04      1.494096      0.007596      0.233863      3.409825   \n",
       "std    4.141264e+04      0.539683      0.086825      0.765686      0.650546   \n",
       "min    5.200000e+02      1.000000      0.000000      0.000000      1.000000   \n",
       "25%    5.040000e+03      1.000000      0.000000      0.000000      3.000000   \n",
       "50%    7.618000e+03      1.500000      0.000000      0.000000      3.000000   \n",
       "75%    1.068500e+04      2.000000      0.000000      0.000000      4.000000   \n",
       "max    1.651359e+06      3.500000      1.000000      4.000000      5.000000   \n",
       "\n",
       "              grade    sqft_above      yr_built  yr_renovated       zipcode  \\\n",
       "count  21597.000000  21597.000000  21597.000000  17755.000000  21597.000000   \n",
       "mean       7.657915   1788.596842   1970.999676     83.636778  98077.951845   \n",
       "std        1.173200    827.759761     29.375234    399.946414     53.513072   \n",
       "min        3.000000    370.000000   1900.000000      0.000000  98001.000000   \n",
       "25%        7.000000   1190.000000   1951.000000      0.000000  98033.000000   \n",
       "50%        7.000000   1560.000000   1975.000000      0.000000  98065.000000   \n",
       "75%        8.000000   2210.000000   1997.000000      0.000000  98118.000000   \n",
       "max       13.000000   9410.000000   2015.000000   2015.000000  98199.000000   \n",
       "\n",
       "                lat          long  sqft_living15     sqft_lot15  \n",
       "count  21597.000000  21597.000000   21597.000000   21597.000000  \n",
       "mean      47.560093   -122.213982    1986.620318   12758.283512  \n",
       "std        0.138552      0.140724     685.230472   27274.441950  \n",
       "min       47.155900   -122.519000     399.000000     651.000000  \n",
       "25%       47.471100   -122.328000    1490.000000    5100.000000  \n",
       "50%       47.571800   -122.231000    1840.000000    7620.000000  \n",
       "75%       47.678000   -122.125000    2360.000000   10083.000000  \n",
       "max       47.777600   -121.315000    6210.000000  871200.000000  "
      ]
     },
     "execution_count": 4,
     "metadata": {},
     "output_type": "execute_result"
    }
   ],
   "source": [
    "df.describe(include=np.number)"
   ]
  },
  {
   "cell_type": "code",
   "execution_count": 5,
   "metadata": {},
   "outputs": [
    {
     "data": {
      "text/html": [
       "<div>\n",
       "<style scoped>\n",
       "    .dataframe tbody tr th:only-of-type {\n",
       "        vertical-align: middle;\n",
       "    }\n",
       "\n",
       "    .dataframe tbody tr th {\n",
       "        vertical-align: top;\n",
       "    }\n",
       "\n",
       "    .dataframe thead th {\n",
       "        text-align: right;\n",
       "    }\n",
       "</style>\n",
       "<table border=\"1\" class=\"dataframe\">\n",
       "  <thead>\n",
       "    <tr style=\"text-align: right;\">\n",
       "      <th></th>\n",
       "      <th>date</th>\n",
       "      <th>sqft_basement</th>\n",
       "    </tr>\n",
       "  </thead>\n",
       "  <tbody>\n",
       "    <tr>\n",
       "      <th>count</th>\n",
       "      <td>21597</td>\n",
       "      <td>21597</td>\n",
       "    </tr>\n",
       "    <tr>\n",
       "      <th>unique</th>\n",
       "      <td>372</td>\n",
       "      <td>304</td>\n",
       "    </tr>\n",
       "    <tr>\n",
       "      <th>top</th>\n",
       "      <td>6/23/2014</td>\n",
       "      <td>0.0</td>\n",
       "    </tr>\n",
       "    <tr>\n",
       "      <th>freq</th>\n",
       "      <td>142</td>\n",
       "      <td>12826</td>\n",
       "    </tr>\n",
       "  </tbody>\n",
       "</table>\n",
       "</div>"
      ],
      "text/plain": [
       "             date sqft_basement\n",
       "count       21597         21597\n",
       "unique        372           304\n",
       "top     6/23/2014           0.0\n",
       "freq          142         12826"
      ]
     },
     "execution_count": 5,
     "metadata": {},
     "output_type": "execute_result"
    }
   ],
   "source": [
    "df.describe(include=object)"
   ]
  },
  {
   "cell_type": "markdown",
   "metadata": {},
   "source": [
    "#### We also have descriptions for each column:"
   ]
  },
  {
   "cell_type": "code",
   "execution_count": 6,
   "metadata": {},
   "outputs": [
    {
     "data": {
      "text/plain": [
       "{'id': 'unique identified for a house',\n",
       " 'dateDate': 'house was sold',\n",
       " 'pricePrice': ' is prediction target',\n",
       " 'bedroomsNumber': ' of Bedrooms/House',\n",
       " 'bathroomsNumber': ' of bathrooms/bedrooms',\n",
       " 'sqft_livingsquare': ' footage of the home',\n",
       " 'sqft_lotsquare': ' footage of the lot',\n",
       " 'floorsTotal': ' floors (levels) in house',\n",
       " 'waterfront': 'House which has a view to a waterfront',\n",
       " 'view': 'Has been viewed',\n",
       " 'condition': 'How good the condition is ( Overall )',\n",
       " 'grade': 'overall grade given to the housing unit, based on King County grading system',\n",
       " 'sqft_above': 'square footage of house apart from basement',\n",
       " 'sqft_basement': 'square footage of the basement',\n",
       " 'yr_built': 'Built Year',\n",
       " 'yr_renovated': 'Year when house was renovated',\n",
       " 'zipcode': 'zip',\n",
       " 'lat': 'Latitude coordinate',\n",
       " 'long': 'Longitude coordinate',\n",
       " 'sqft_living15': 'The square footage of interior housing living space for the nearest 15 neighbors',\n",
       " 'sqft_lot15': 'The square footage of the land lots of the nearest 15 neighbors'}"
      ]
     },
     "execution_count": 6,
     "metadata": {},
     "output_type": "execute_result"
    }
   ],
   "source": [
    "with open('data/column_names.md', 'r') as f:\n",
    "    colnames = f.readlines()\n",
    "split_colnames = [i.split(' - ') for i in colnames[1:]]\n",
    "coldict = {i[0][4:-2]:i[1].replace('\\n', '') for i in split_colnames}\n",
    "coldict"
   ]
  },
  {
   "cell_type": "markdown",
   "metadata": {},
   "source": [
    "Based on the histogram above, and the descriptions, most of these appear to be continuous or ordinal variables which we can treat as numerical. \n",
    "\n",
    "Some, like zipcode, should be treated as categorical, as they indicate groups without any order.\n",
    "\n",
    "Interestingly, `sqft_basement` comes up as an object (text) column when it should be a number. We'll investigate that later on."
   ]
  },
  {
   "cell_type": "markdown",
   "metadata": {},
   "source": [
    "## Data cleaning"
   ]
  },
  {
   "cell_type": "markdown",
   "metadata": {},
   "source": [
    "#### Any missing data?"
   ]
  },
  {
   "cell_type": "code",
   "execution_count": 7,
   "metadata": {},
   "outputs": [
    {
     "data": {
      "text/plain": [
       "waterfront      2376\n",
       "view              63\n",
       "yr_renovated    3842\n",
       "dtype: int64"
      ]
     },
     "execution_count": 7,
     "metadata": {},
     "output_type": "execute_result"
    }
   ],
   "source": [
    "df.isna().sum()[df.isna().sum() > 0]"
   ]
  },
  {
   "cell_type": "markdown",
   "metadata": {},
   "source": [
    "Just three columns. Let's take a look."
   ]
  },
  {
   "cell_type": "code",
   "execution_count": 8,
   "metadata": {},
   "outputs": [
    {
     "data": {
      "text/plain": [
       "array([nan,  0.,  1.])"
      ]
     },
     "execution_count": 8,
     "metadata": {},
     "output_type": "execute_result"
    }
   ],
   "source": [
    "df['waterfront'].unique()"
   ]
  },
  {
   "cell_type": "code",
   "execution_count": 9,
   "metadata": {},
   "outputs": [
    {
     "data": {
      "text/plain": [
       "array([ 0., nan,  3.,  4.,  2.,  1.])"
      ]
     },
     "execution_count": 9,
     "metadata": {},
     "output_type": "execute_result"
    }
   ],
   "source": [
    "df['view'].unique()"
   ]
  },
  {
   "cell_type": "code",
   "execution_count": 10,
   "metadata": {},
   "outputs": [
    {
     "data": {
      "text/plain": [
       "<AxesSubplot:>"
      ]
     },
     "execution_count": 10,
     "metadata": {},
     "output_type": "execute_result"
    },
    {
     "data": {
      "image/png": "[encoded data removed]",
      "text/plain": [
       "<Figure size 432x288 with 1 Axes>"
      ]
     },
     "metadata": {
      "needs_background": "light"
     },
     "output_type": "display_data"
    }
   ],
   "source": [
    "df['yr_renovated'].hist()"
   ]
  },
  {
   "cell_type": "code",
   "execution_count": 11,
   "metadata": {},
   "outputs": [],
   "source": [
    "# We don't know much about these columns so let's use a basic technique\n",
    "# And fill with the most common value\n",
    "for c in ['waterfront', 'view', 'yr_renovated']:\n",
    "    df[c] = df[c].fillna(df[c].mode()[0])"
   ]
  },
  {
   "cell_type": "code",
   "execution_count": 12,
   "metadata": {},
   "outputs": [
    {
     "data": {
      "text/plain": [
       "Series([], dtype: int64)"
      ]
     },
     "execution_count": 12,
     "metadata": {},
     "output_type": "execute_result"
    }
   ],
   "source": [
    "# Check for missing data once again (should be empty)\n",
    "df.isna().sum()[df.isna().sum() > 0]"
   ]
  },
  {
   "cell_type": "markdown",
   "metadata": {},
   "source": [
    "#### Are all columns in the right data type?"
   ]
  },
  {
   "cell_type": "markdown",
   "metadata": {},
   "source": [
    "Remember that `sqft_basement` was showing up as text:"
   ]
  },
  {
   "cell_type": "code",
   "execution_count": 13,
   "metadata": {},
   "outputs": [],
   "source": [
    "# # Converting it to integer will fail\n",
    "# df['sqft_basement'].astype(float)"
   ]
  },
  {
   "cell_type": "code",
   "execution_count": 14,
   "metadata": {},
   "outputs": [
    {
     "data": {
      "text/plain": [
       "array(['?'], dtype=object)"
      ]
     },
     "execution_count": 14,
     "metadata": {},
     "output_type": "execute_result"
    }
   ],
   "source": [
    "# So what non-number value does it have?\n",
    "df[df['sqft_basement'].str.contains('[^\\d.]')]['sqft_basement'].unique()"
   ]
  },
  {
   "cell_type": "markdown",
   "metadata": {},
   "source": [
    "Ah, it contains question marks. \n",
    "\n",
    "Since this is a continuous variable, let's replace it with the median."
   ]
  },
  {
   "cell_type": "code",
   "execution_count": 15,
   "metadata": {},
   "outputs": [
    {
     "data": {
      "text/plain": [
       "0.0"
      ]
     },
     "execution_count": 15,
     "metadata": {},
     "output_type": "execute_result"
    }
   ],
   "source": [
    "df[df['sqft_basement'] != '?']['sqft_basement'].astype(float).median()"
   ]
  },
  {
   "cell_type": "code",
   "execution_count": 16,
   "metadata": {},
   "outputs": [],
   "source": [
    "df.loc[df['sqft_basement']=='?', 'sqft_basement'] = 0  # Set sqft_basement to 0\n",
    "df['sqft_basement'] = df['sqft_basement'].astype(float)"
   ]
  },
  {
   "cell_type": "markdown",
   "metadata": {},
   "source": [
    "And change the date data to datetime"
   ]
  },
  {
   "cell_type": "code",
   "execution_count": 17,
   "metadata": {},
   "outputs": [],
   "source": [
    "df['date'] = pd.to_datetime(df['date'])"
   ]
  },
  {
   "cell_type": "markdown",
   "metadata": {},
   "source": [
    "#### Do any values stand out as potential being incorrect?"
   ]
  },
  {
   "cell_type": "markdown",
   "metadata": {},
   "source": [
    "Let's look for any potential outliers (we are only looking for ERRORS in data)."
   ]
  },
  {
   "cell_type": "code",
   "execution_count": 18,
   "metadata": {},
   "outputs": [
    {
     "data": {
      "image/png": "[encoded data removed]",
      "text/plain": [
       "<Figure size 1008x864 with 25 Axes>"
      ]
     },
     "metadata": {
      "needs_background": "light"
     },
     "output_type": "display_data"
    }
   ],
   "source": [
    "df.hist(bins=50, figsize=(14, 12))\n",
    "plt.tight_layout()"
   ]
  },
  {
   "cell_type": "markdown",
   "metadata": {},
   "source": [
    "Notice the skew on a lot of these variables - they will probably benefit from log transforms."
   ]
  },
  {
   "cell_type": "code",
   "execution_count": 19,
   "metadata": {},
   "outputs": [
    {
     "data": {
      "text/plain": [
       "18428     9\n",
       "8537      9\n",
       "6073      9\n",
       "16830     9\n",
       "4231      9\n",
       "15147    10\n",
       "13301    10\n",
       "19239    10\n",
       "8748     11\n",
       "15856    33\n",
       "Name: bedrooms, dtype: int64"
      ]
     },
     "execution_count": 19,
     "metadata": {},
     "output_type": "execute_result"
    }
   ],
   "source": [
    "df['bedrooms'].sort_values()[-10:]"
   ]
  },
  {
   "cell_type": "markdown",
   "metadata": {},
   "source": [
    "Interestingly, one house has 33 bedrooms."
   ]
  },
  {
   "cell_type": "code",
   "execution_count": 20,
   "metadata": {},
   "outputs": [
    {
     "data": {
      "text/html": [
       "<div>\n",
       "<style scoped>\n",
       "    .dataframe tbody tr th:only-of-type {\n",
       "        vertical-align: middle;\n",
       "    }\n",
       "\n",
       "    .dataframe tbody tr th {\n",
       "        vertical-align: top;\n",
       "    }\n",
       "\n",
       "    .dataframe thead th {\n",
       "        text-align: right;\n",
       "    }\n",
       "</style>\n",
       "<table border=\"1\" class=\"dataframe\">\n",
       "  <thead>\n",
       "    <tr style=\"text-align: right;\">\n",
       "      <th></th>\n",
       "      <th>id</th>\n",
       "      <th>date</th>\n",
       "      <th>price</th>\n",
       "      <th>bedrooms</th>\n",
       "      <th>bathrooms</th>\n",
       "      <th>sqft_living</th>\n",
       "      <th>sqft_lot</th>\n",
       "      <th>floors</th>\n",
       "      <th>waterfront</th>\n",
       "      <th>view</th>\n",
       "      <th>...</th>\n",
       "      <th>grade</th>\n",
       "      <th>sqft_above</th>\n",
       "      <th>sqft_basement</th>\n",
       "      <th>yr_built</th>\n",
       "      <th>yr_renovated</th>\n",
       "      <th>zipcode</th>\n",
       "      <th>lat</th>\n",
       "      <th>long</th>\n",
       "      <th>sqft_living15</th>\n",
       "      <th>sqft_lot15</th>\n",
       "    </tr>\n",
       "  </thead>\n",
       "  <tbody>\n",
       "    <tr>\n",
       "      <th>15856</th>\n",
       "      <td>2402100895</td>\n",
       "      <td>2014-06-25</td>\n",
       "      <td>640000.0</td>\n",
       "      <td>33</td>\n",
       "      <td>1.75</td>\n",
       "      <td>1620</td>\n",
       "      <td>6000</td>\n",
       "      <td>1.0</td>\n",
       "      <td>0.0</td>\n",
       "      <td>0.0</td>\n",
       "      <td>...</td>\n",
       "      <td>7</td>\n",
       "      <td>1040</td>\n",
       "      <td>580.0</td>\n",
       "      <td>1947</td>\n",
       "      <td>0.0</td>\n",
       "      <td>98103</td>\n",
       "      <td>47.6878</td>\n",
       "      <td>-122.331</td>\n",
       "      <td>1330</td>\n",
       "      <td>4700</td>\n",
       "    </tr>\n",
       "    <tr>\n",
       "      <th>18428</th>\n",
       "      <td>8823901445</td>\n",
       "      <td>2015-03-13</td>\n",
       "      <td>934000.0</td>\n",
       "      <td>9</td>\n",
       "      <td>3.00</td>\n",
       "      <td>2820</td>\n",
       "      <td>4480</td>\n",
       "      <td>2.0</td>\n",
       "      <td>0.0</td>\n",
       "      <td>0.0</td>\n",
       "      <td>...</td>\n",
       "      <td>7</td>\n",
       "      <td>1880</td>\n",
       "      <td>940.0</td>\n",
       "      <td>1918</td>\n",
       "      <td>0.0</td>\n",
       "      <td>98105</td>\n",
       "      <td>47.6654</td>\n",
       "      <td>-122.307</td>\n",
       "      <td>2460</td>\n",
       "      <td>4400</td>\n",
       "    </tr>\n",
       "    <tr>\n",
       "      <th>19239</th>\n",
       "      <td>8812401450</td>\n",
       "      <td>2014-12-29</td>\n",
       "      <td>660000.0</td>\n",
       "      <td>10</td>\n",
       "      <td>3.00</td>\n",
       "      <td>2920</td>\n",
       "      <td>3745</td>\n",
       "      <td>2.0</td>\n",
       "      <td>0.0</td>\n",
       "      <td>0.0</td>\n",
       "      <td>...</td>\n",
       "      <td>7</td>\n",
       "      <td>1860</td>\n",
       "      <td>1060.0</td>\n",
       "      <td>1913</td>\n",
       "      <td>0.0</td>\n",
       "      <td>98105</td>\n",
       "      <td>47.6635</td>\n",
       "      <td>-122.320</td>\n",
       "      <td>1810</td>\n",
       "      <td>3745</td>\n",
       "    </tr>\n",
       "    <tr>\n",
       "      <th>8748</th>\n",
       "      <td>1773100755</td>\n",
       "      <td>2014-08-21</td>\n",
       "      <td>520000.0</td>\n",
       "      <td>11</td>\n",
       "      <td>3.00</td>\n",
       "      <td>3000</td>\n",
       "      <td>4960</td>\n",
       "      <td>2.0</td>\n",
       "      <td>0.0</td>\n",
       "      <td>0.0</td>\n",
       "      <td>...</td>\n",
       "      <td>7</td>\n",
       "      <td>2400</td>\n",
       "      <td>600.0</td>\n",
       "      <td>1918</td>\n",
       "      <td>1999.0</td>\n",
       "      <td>98106</td>\n",
       "      <td>47.5560</td>\n",
       "      <td>-122.363</td>\n",
       "      <td>1420</td>\n",
       "      <td>4960</td>\n",
       "    </tr>\n",
       "    <tr>\n",
       "      <th>15147</th>\n",
       "      <td>5566100170</td>\n",
       "      <td>2014-10-29</td>\n",
       "      <td>650000.0</td>\n",
       "      <td>10</td>\n",
       "      <td>2.00</td>\n",
       "      <td>3610</td>\n",
       "      <td>11914</td>\n",
       "      <td>2.0</td>\n",
       "      <td>0.0</td>\n",
       "      <td>0.0</td>\n",
       "      <td>...</td>\n",
       "      <td>7</td>\n",
       "      <td>3010</td>\n",
       "      <td>600.0</td>\n",
       "      <td>1958</td>\n",
       "      <td>0.0</td>\n",
       "      <td>98006</td>\n",
       "      <td>47.5705</td>\n",
       "      <td>-122.175</td>\n",
       "      <td>2040</td>\n",
       "      <td>11914</td>\n",
       "    </tr>\n",
       "    <tr>\n",
       "      <th>6073</th>\n",
       "      <td>9822700190</td>\n",
       "      <td>2014-08-08</td>\n",
       "      <td>1280000.0</td>\n",
       "      <td>9</td>\n",
       "      <td>4.50</td>\n",
       "      <td>3650</td>\n",
       "      <td>5000</td>\n",
       "      <td>2.0</td>\n",
       "      <td>0.0</td>\n",
       "      <td>0.0</td>\n",
       "      <td>...</td>\n",
       "      <td>8</td>\n",
       "      <td>2530</td>\n",
       "      <td>1120.0</td>\n",
       "      <td>1915</td>\n",
       "      <td>2010.0</td>\n",
       "      <td>98105</td>\n",
       "      <td>47.6604</td>\n",
       "      <td>-122.289</td>\n",
       "      <td>2510</td>\n",
       "      <td>5000</td>\n",
       "    </tr>\n",
       "    <tr>\n",
       "      <th>4231</th>\n",
       "      <td>2902200015</td>\n",
       "      <td>2015-01-06</td>\n",
       "      <td>700000.0</td>\n",
       "      <td>9</td>\n",
       "      <td>3.00</td>\n",
       "      <td>3680</td>\n",
       "      <td>4400</td>\n",
       "      <td>2.0</td>\n",
       "      <td>0.0</td>\n",
       "      <td>0.0</td>\n",
       "      <td>...</td>\n",
       "      <td>7</td>\n",
       "      <td>2830</td>\n",
       "      <td>850.0</td>\n",
       "      <td>1908</td>\n",
       "      <td>0.0</td>\n",
       "      <td>98102</td>\n",
       "      <td>47.6374</td>\n",
       "      <td>-122.324</td>\n",
       "      <td>1960</td>\n",
       "      <td>2450</td>\n",
       "    </tr>\n",
       "    <tr>\n",
       "      <th>4092</th>\n",
       "      <td>1997200215</td>\n",
       "      <td>2014-05-07</td>\n",
       "      <td>599999.0</td>\n",
       "      <td>9</td>\n",
       "      <td>4.50</td>\n",
       "      <td>3830</td>\n",
       "      <td>6988</td>\n",
       "      <td>2.5</td>\n",
       "      <td>0.0</td>\n",
       "      <td>0.0</td>\n",
       "      <td>...</td>\n",
       "      <td>7</td>\n",
       "      <td>2450</td>\n",
       "      <td>1380.0</td>\n",
       "      <td>1938</td>\n",
       "      <td>0.0</td>\n",
       "      <td>98103</td>\n",
       "      <td>47.6927</td>\n",
       "      <td>-122.338</td>\n",
       "      <td>1460</td>\n",
       "      <td>6291</td>\n",
       "    </tr>\n",
       "    <tr>\n",
       "      <th>8537</th>\n",
       "      <td>424049043</td>\n",
       "      <td>2014-08-11</td>\n",
       "      <td>450000.0</td>\n",
       "      <td>9</td>\n",
       "      <td>7.50</td>\n",
       "      <td>4050</td>\n",
       "      <td>6504</td>\n",
       "      <td>2.0</td>\n",
       "      <td>0.0</td>\n",
       "      <td>0.0</td>\n",
       "      <td>...</td>\n",
       "      <td>7</td>\n",
       "      <td>4050</td>\n",
       "      <td>0.0</td>\n",
       "      <td>1996</td>\n",
       "      <td>0.0</td>\n",
       "      <td>98144</td>\n",
       "      <td>47.5923</td>\n",
       "      <td>-122.301</td>\n",
       "      <td>1448</td>\n",
       "      <td>3866</td>\n",
       "    </tr>\n",
       "    <tr>\n",
       "      <th>13301</th>\n",
       "      <td>627300145</td>\n",
       "      <td>2014-08-14</td>\n",
       "      <td>1150000.0</td>\n",
       "      <td>10</td>\n",
       "      <td>5.25</td>\n",
       "      <td>4590</td>\n",
       "      <td>10920</td>\n",
       "      <td>1.0</td>\n",
       "      <td>0.0</td>\n",
       "      <td>2.0</td>\n",
       "      <td>...</td>\n",
       "      <td>9</td>\n",
       "      <td>2500</td>\n",
       "      <td>2090.0</td>\n",
       "      <td>2008</td>\n",
       "      <td>0.0</td>\n",
       "      <td>98004</td>\n",
       "      <td>47.5861</td>\n",
       "      <td>-122.113</td>\n",
       "      <td>2730</td>\n",
       "      <td>10400</td>\n",
       "    </tr>\n",
       "    <tr>\n",
       "      <th>16830</th>\n",
       "      <td>8823900290</td>\n",
       "      <td>2015-03-17</td>\n",
       "      <td>1400000.0</td>\n",
       "      <td>9</td>\n",
       "      <td>4.00</td>\n",
       "      <td>4620</td>\n",
       "      <td>5508</td>\n",
       "      <td>2.5</td>\n",
       "      <td>0.0</td>\n",
       "      <td>0.0</td>\n",
       "      <td>...</td>\n",
       "      <td>11</td>\n",
       "      <td>3870</td>\n",
       "      <td>750.0</td>\n",
       "      <td>1915</td>\n",
       "      <td>0.0</td>\n",
       "      <td>98105</td>\n",
       "      <td>47.6684</td>\n",
       "      <td>-122.309</td>\n",
       "      <td>2710</td>\n",
       "      <td>4320</td>\n",
       "    </tr>\n",
       "  </tbody>\n",
       "</table>\n",
       "<p>11 rows × 21 columns</p>\n",
       "</div>"
      ],
      "text/plain": [
       "               id       date      price  bedrooms  bathrooms  sqft_living  \\\n",
       "15856  2402100895 2014-06-25   640000.0        33       1.75         1620   \n",
       "18428  8823901445 2015-03-13   934000.0         9       3.00         2820   \n",
       "19239  8812401450 2014-12-29   660000.0        10       3.00         2920   \n",
       "8748   1773100755 2014-08-21   520000.0        11       3.00         3000   \n",
       "15147  5566100170 2014-10-29   650000.0        10       2.00         3610   \n",
       "6073   9822700190 2014-08-08  1280000.0         9       4.50         3650   \n",
       "4231   2902200015 2015-01-06   700000.0         9       3.00         3680   \n",
       "4092   1997200215 2014-05-07   599999.0         9       4.50         3830   \n",
       "8537    424049043 2014-08-11   450000.0         9       7.50         4050   \n",
       "13301   627300145 2014-08-14  1150000.0        10       5.25         4590   \n",
       "16830  8823900290 2015-03-17  1400000.0         9       4.00         4620   \n",
       "\n",
       "       sqft_lot  floors  waterfront  view  ...  grade  sqft_above  \\\n",
       "15856      6000     1.0         0.0   0.0  ...      7        1040   \n",
       "18428      4480     2.0         0.0   0.0  ...      7        1880   \n",
       "19239      3745     2.0         0.0   0.0  ...      7        1860   \n",
       "8748       4960     2.0         0.0   0.0  ...      7        2400   \n",
       "15147     11914     2.0         0.0   0.0  ...      7        3010   \n",
       "6073       5000     2.0         0.0   0.0  ...      8        2530   \n",
       "4231       4400     2.0         0.0   0.0  ...      7        2830   \n",
       "4092       6988     2.5         0.0   0.0  ...      7        2450   \n",
       "8537       6504     2.0         0.0   0.0  ...      7        4050   \n",
       "13301     10920     1.0         0.0   2.0  ...      9        2500   \n",
       "16830      5508     2.5         0.0   0.0  ...     11        3870   \n",
       "\n",
       "       sqft_basement  yr_built  yr_renovated  zipcode      lat     long  \\\n",
       "15856          580.0      1947           0.0    98103  47.6878 -122.331   \n",
       "18428          940.0      1918           0.0    98105  47.6654 -122.307   \n",
       "19239         1060.0      1913           0.0    98105  47.6635 -122.320   \n",
       "8748           600.0      1918        1999.0    98106  47.5560 -122.363   \n",
       "15147          600.0      1958           0.0    98006  47.5705 -122.175   \n",
       "6073          1120.0      1915        2010.0    98105  47.6604 -122.289   \n",
       "4231           850.0      1908           0.0    98102  47.6374 -122.324   \n",
       "4092          1380.0      1938           0.0    98103  47.6927 -122.338   \n",
       "8537             0.0      1996           0.0    98144  47.5923 -122.301   \n",
       "13301         2090.0      2008           0.0    98004  47.5861 -122.113   \n",
       "16830          750.0      1915           0.0    98105  47.6684 -122.309   \n",
       "\n",
       "       sqft_living15  sqft_lot15  \n",
       "15856           1330        4700  \n",
       "18428           2460        4400  \n",
       "19239           1810        3745  \n",
       "8748            1420        4960  \n",
       "15147           2040       11914  \n",
       "6073            2510        5000  \n",
       "4231            1960        2450  \n",
       "4092            1460        6291  \n",
       "8537            1448        3866  \n",
       "13301           2730       10400  \n",
       "16830           2710        4320  \n",
       "\n",
       "[11 rows x 21 columns]"
      ]
     },
     "execution_count": 20,
     "metadata": {},
     "output_type": "execute_result"
    }
   ],
   "source": [
    "df[df['bedrooms'] > 8].sort_values('sqft_living')"
   ]
  },
  {
   "cell_type": "markdown",
   "metadata": {},
   "source": [
    "Interestingly - the house with 33 bedrooms only has 1.75 bathrooms, and has a very small footprint. "
   ]
  },
  {
   "cell_type": "code",
   "execution_count": 21,
   "metadata": {},
   "outputs": [
    {
     "data": {
      "text/plain": [
       "<AxesSubplot:xlabel='bedrooms', ylabel='price'>"
      ]
     },
     "execution_count": 21,
     "metadata": {},
     "output_type": "execute_result"
    },
    {
     "data": {
      "image/png": "[encoded data removed]",
      "text/plain": [
       "<Figure size 432x288 with 1 Axes>"
      ]
     },
     "metadata": {
      "needs_background": "light"
     },
     "output_type": "display_data"
    }
   ],
   "source": [
    "sns.scatterplot(x=df['bedrooms'], y=df['price'], hue=df['bedrooms'] > 20)"
   ]
  },
  {
   "cell_type": "markdown",
   "metadata": {},
   "source": [
    "That certainly doesn't look right.\n",
    "\n",
    "If we had access to the data source or collector, we should go back to them and discuss whether this might be an error. \n",
    "\n",
    "As it is, we have no way of knowing, and how to fix it - was it meant to be 3, not 33? Or should we replace it with a median? Maybe we should drop this row altogether.\n",
    "\n",
    "For now, let's drop this row - but at the end, we will see what impact this has."
   ]
  },
  {
   "cell_type": "code",
   "execution_count": 22,
   "metadata": {},
   "outputs": [],
   "source": [
    "df = df[df['bedrooms'] < 20]"
   ]
  },
  {
   "cell_type": "markdown",
   "metadata": {},
   "source": [
    "> Try re-running the notebook with the line above commented out or left in"
   ]
  },
  {
   "cell_type": "markdown",
   "metadata": {},
   "source": [
    "## Model building"
   ]
  },
  {
   "cell_type": "markdown",
   "metadata": {},
   "source": [
    "### Baseline model"
   ]
  },
  {
   "cell_type": "markdown",
   "metadata": {},
   "source": [
    "Let's build a simple baseline model with a few variables. To see what variables to pick, we can check for the most highly correlated variables."
   ]
  },
  {
   "cell_type": "code",
   "execution_count": 23,
   "metadata": {},
   "outputs": [
    {
     "data": {
      "text/plain": [
       "zipcode         -0.053409\n",
       "id              -0.016763\n",
       "long             0.022047\n",
       "condition        0.036031\n",
       "yr_built         0.053965\n",
       "sqft_lot15       0.082849\n",
       "sqft_lot         0.089879\n",
       "yr_renovated     0.117858\n",
       "floors           0.256820\n",
       "waterfront       0.264308\n",
       "lat              0.306687\n",
       "bedrooms         0.315961\n",
       "sqft_basement    0.321103\n",
       "view             0.393502\n",
       "bathrooms        0.525915\n",
       "sqft_living15    0.585267\n",
       "sqft_above       0.605392\n",
       "grade            0.667964\n",
       "sqft_living      0.701929\n",
       "price            1.000000\n",
       "Name: price, dtype: float64"
      ]
     },
     "execution_count": 23,
     "metadata": {},
     "output_type": "execute_result"
    }
   ],
   "source": [
    "df.corr()['price'].sort_values()"
   ]
  },
  {
   "cell_type": "markdown",
   "metadata": {},
   "source": [
    "Let's pick the five variables with over 0.5 correlation, and build our model"
   ]
  },
  {
   "cell_type": "code",
   "execution_count": 24,
   "metadata": {},
   "outputs": [],
   "source": [
    "base_vars = ['bathrooms', 'sqft_living15', 'sqft_above', 'grade', 'sqft_living']"
   ]
  },
  {
   "cell_type": "code",
   "execution_count": 25,
   "metadata": {},
   "outputs": [],
   "source": [
    "y = df['price']\n",
    "X = df[base_vars]\n",
    "\n",
    "from sklearn.model_selection import train_test_split\n",
    "X_train, X_val, y_train, y_val = train_test_split(X, y, test_size=0.2, random_state=0)"
   ]
  },
  {
   "cell_type": "code",
   "execution_count": 26,
   "metadata": {},
   "outputs": [],
   "source": [
    "def get_eval_outputs(reg_model, y_train_in, y_train_preds_in, y_val_in, y_val_preds_in, log_inputs=True):\n",
    "    \n",
    "    from sklearn.metrics import mean_squared_error, r2_score\n",
    "    \n",
    "    if log_inputs:\n",
    "        y_train_in = np.exp(y_train_in)\n",
    "        y_train_preds_in = np.exp(y_train_preds_in)        \n",
    "        y_val_in = np.exp(y_val_in)\n",
    "        y_val_preds_in = np.exp(y_val_preds_in)    \n",
    "        \n",
    "    train_rmse = mean_squared_error(y_train_in, y_train_preds_in, squared=False)\n",
    "    val_rmse = mean_squared_error(y_val_in, y_val_preds_in, squared=False)\n",
    "    \n",
    "    train_r2 = r2_score(y_train_in, y_train_preds_in)\n",
    "    test_r2 = r2_score(y_val_in, y_val_preds_in)\n",
    "    \n",
    "    print(f'Results for: {reg_model}')\n",
    "    print('Train MSE:', train_rmse, 'Validation MSE: ', val_rmse) \n",
    "    print('Train R2:', train_r2, 'Validation R2: ', test_r2) \n",
    "    \n",
    "    return None"
   ]
  },
  {
   "cell_type": "code",
   "execution_count": 27,
   "metadata": {},
   "outputs": [
    {
     "name": "stdout",
     "output_type": "stream",
     "text": [
      "Results for: LinearRegression()\n",
      "Train MSE: 251183.431728934 Validation MSE:  234710.3611604476\n",
      "Train R2: 0.5435295876610167 Validation R2:  0.5478055252681063\n"
     ]
    }
   ],
   "source": [
    "from sklearn.linear_model import LinearRegression\n",
    "linreg = LinearRegression()\n",
    "linreg.fit(X_train, y_train)\n",
    "\n",
    "y_train_preds = linreg.predict(X_train)\n",
    "y_val_preds = linreg.predict(X_val)\n",
    "\n",
    "get_eval_outputs(linreg, y_train, y_train_preds, y_val, y_val_preds, log_inputs=False)"
   ]
  },
  {
   "cell_type": "markdown",
   "metadata": {},
   "source": [
    "> Doing not much, we got to about a 0.55 R2\n",
    "> \n",
    "> Remember that our variables were very skewed?"
   ]
  },
  {
   "cell_type": "code",
   "execution_count": 28,
   "metadata": {},
   "outputs": [
    {
     "data": {
      "image/png": "[encoded data removed]",
      "text/plain": [
       "<Figure size 576x432 with 6 Axes>"
      ]
     },
     "metadata": {
      "needs_background": "light"
     },
     "output_type": "display_data"
    }
   ],
   "source": [
    "df[base_vars].hist(bins=50, figsize=(8, 6))\n",
    "plt.tight_layout()"
   ]
  },
  {
   "cell_type": "markdown",
   "metadata": {},
   "source": [
    "So let's try this with a log transform."
   ]
  },
  {
   "cell_type": "code",
   "execution_count": 29,
   "metadata": {},
   "outputs": [
    {
     "name": "stdout",
     "output_type": "stream",
     "text": [
      "Results for: LinearRegression()\n",
      "Train MSE: 0.35202112031259714 Validation MSE:  0.3499968837380708\n",
      "Train R2: 0.5534709955174038 Validation R2:  0.5561073058555195\n"
     ]
    }
   ],
   "source": [
    "y = np.log1p(df['price'])\n",
    "X = np.log1p(df[base_vars])\n",
    "\n",
    "X_train, X_val, y_train, y_val = train_test_split(X, y, test_size=0.2, random_state=0)\n",
    "\n",
    "linreg = LinearRegression()\n",
    "linreg.fit(X_train, y_train)\n",
    "\n",
    "y_train_preds = linreg.predict(X_train)\n",
    "y_val_preds = linreg.predict(X_val)\n",
    "\n",
    "get_eval_outputs(linreg, y_train, y_train_preds, y_val, y_val_preds, log_inputs=False)"
   ]
  },
  {
   "cell_type": "code",
   "execution_count": 30,
   "metadata": {},
   "outputs": [
    {
     "data": {
      "text/plain": [
       "<AxesSubplot:xlabel='price', ylabel='price'>"
      ]
     },
     "execution_count": 30,
     "metadata": {},
     "output_type": "execute_result"
    },
    {
     "data": {
      "image/png": "[encoded data removed]",
      "text/plain": [
       "<Figure size 432x288 with 1 Axes>"
      ]
     },
     "metadata": {
      "needs_background": "light"
     },
     "output_type": "display_data"
    }
   ],
   "source": [
    "sns.scatterplot(x=y_val, y=y_val_preds)\n",
    "sns.lineplot(x=y_val, y=y_val, color='red', alpha=0.75)"
   ]
  },
  {
   "cell_type": "markdown",
   "metadata": {},
   "source": [
    "We are getting a slight improvement with a log transform. Let's start to add further features to our model."
   ]
  },
  {
   "cell_type": "markdown",
   "metadata": {},
   "source": [
    "### Additional features"
   ]
  },
  {
   "cell_type": "markdown",
   "metadata": {},
   "source": [
    "Let's add a few more features"
   ]
  },
  {
   "cell_type": "markdown",
   "metadata": {},
   "source": [
    "I'm not sure what the numbers in the \"view\" column refers to, but let's see if it would be reasonable to treat it as a continuous (ordinal) variable."
   ]
  },
  {
   "cell_type": "code",
   "execution_count": 31,
   "metadata": {},
   "outputs": [
    {
     "data": {
      "text/plain": [
       "<AxesSubplot:xlabel='view', ylabel='price'>"
      ]
     },
     "execution_count": 31,
     "metadata": {},
     "output_type": "execute_result"
    },
    {
     "data": {
      "image/png": "[encoded data removed]",
      "text/plain": [
       "<Figure size 432x288 with 1 Axes>"
      ]
     },
     "metadata": {
      "needs_background": "light"
     },
     "output_type": "display_data"
    }
   ],
   "source": [
    "sns.boxplot(x=df['view'], y=df['price'])"
   ]
  },
  {
   "cell_type": "markdown",
   "metadata": {},
   "source": [
    "It looks like it!"
   ]
  },
  {
   "cell_type": "code",
   "execution_count": 32,
   "metadata": {},
   "outputs": [
    {
     "data": {
      "text/plain": [
       "['view',\n",
       " 'sqft_lot',\n",
       " 'sqft_lot15',\n",
       " 'bedrooms',\n",
       " 'bathrooms',\n",
       " 'sqft_living',\n",
       " 'condition',\n",
       " 'floors',\n",
       " 'grade',\n",
       " 'sqft_above',\n",
       " 'sqft_basement',\n",
       " 'sqft_living15']"
      ]
     },
     "execution_count": 32,
     "metadata": {},
     "output_type": "execute_result"
    }
   ],
   "source": [
    "cont_vars = ['view', 'sqft_lot', 'sqft_lot15', 'bedrooms', 'bathrooms', 'sqft_living', 'condition', 'floors',\n",
    "             'grade', 'sqft_above', 'sqft_basement', 'sqft_living15']\n",
    "cont_vars"
   ]
  },
  {
   "cell_type": "code",
   "execution_count": 33,
   "metadata": {},
   "outputs": [
    {
     "data": {
      "image/png": "[encoded data removed]",
      "text/plain": [
       "<Figure size 576x432 with 12 Axes>"
      ]
     },
     "metadata": {
      "needs_background": "light"
     },
     "output_type": "display_data"
    }
   ],
   "source": [
    "df[cont_vars].hist(bins=50, figsize=(8, 6))\n",
    "plt.tight_layout()"
   ]
  },
  {
   "cell_type": "code",
   "execution_count": 34,
   "metadata": {},
   "outputs": [],
   "source": [
    "y = np.log1p(df['price'])\n",
    "X = np.log1p(df[cont_vars])"
   ]
  },
  {
   "cell_type": "code",
   "execution_count": 35,
   "metadata": {},
   "outputs": [
    {
     "name": "stdout",
     "output_type": "stream",
     "text": [
      "Results for: LinearRegression()\n",
      "Train MSE: 0.3337603619850781 Validation MSE:  0.33076520036111134\n",
      "Train R2: 0.5985959519098534 Validation R2:  0.6035492307453785\n"
     ]
    }
   ],
   "source": [
    "X_train, X_val, y_train, y_val = train_test_split(X, y, test_size=0.2, random_state=0)\n",
    "\n",
    "linreg = LinearRegression()\n",
    "linreg.fit(X_train, y_train)\n",
    "\n",
    "y_train_preds = linreg.predict(X_train)\n",
    "y_val_preds = linreg.predict(X_val)\n",
    "\n",
    "get_eval_outputs(linreg, y_train, y_train_preds, y_val, y_val_preds, log_inputs=False)"
   ]
  },
  {
   "cell_type": "markdown",
   "metadata": {},
   "source": [
    "We are up to about 0.6 R2 value. It's decent, but it's not a great fit by any means."
   ]
  },
  {
   "cell_type": "markdown",
   "metadata": {},
   "source": [
    "### Geographical variables"
   ]
  },
  {
   "cell_type": "markdown",
   "metadata": {},
   "source": [
    "The DataFrame contains longitude and latitude values for each property. Can we make use of them?"
   ]
  },
  {
   "cell_type": "code",
   "execution_count": 36,
   "metadata": {},
   "outputs": [
    {
     "data": {
      "text/html": [
       "<div>\n",
       "<style scoped>\n",
       "    .dataframe tbody tr th:only-of-type {\n",
       "        vertical-align: middle;\n",
       "    }\n",
       "\n",
       "    .dataframe tbody tr th {\n",
       "        vertical-align: top;\n",
       "    }\n",
       "\n",
       "    .dataframe thead th {\n",
       "        text-align: right;\n",
       "    }\n",
       "</style>\n",
       "<table border=\"1\" class=\"dataframe\">\n",
       "  <thead>\n",
       "    <tr style=\"text-align: right;\">\n",
       "      <th></th>\n",
       "      <th>long</th>\n",
       "      <th>lat</th>\n",
       "    </tr>\n",
       "  </thead>\n",
       "  <tbody>\n",
       "    <tr>\n",
       "      <th>0</th>\n",
       "      <td>-122.257</td>\n",
       "      <td>47.5112</td>\n",
       "    </tr>\n",
       "    <tr>\n",
       "      <th>1</th>\n",
       "      <td>-122.319</td>\n",
       "      <td>47.7210</td>\n",
       "    </tr>\n",
       "    <tr>\n",
       "      <th>2</th>\n",
       "      <td>-122.233</td>\n",
       "      <td>47.7379</td>\n",
       "    </tr>\n",
       "    <tr>\n",
       "      <th>3</th>\n",
       "      <td>-122.393</td>\n",
       "      <td>47.5208</td>\n",
       "    </tr>\n",
       "    <tr>\n",
       "      <th>4</th>\n",
       "      <td>-122.045</td>\n",
       "      <td>47.6168</td>\n",
       "    </tr>\n",
       "    <tr>\n",
       "      <th>...</th>\n",
       "      <td>...</td>\n",
       "      <td>...</td>\n",
       "    </tr>\n",
       "    <tr>\n",
       "      <th>21592</th>\n",
       "      <td>-122.346</td>\n",
       "      <td>47.6993</td>\n",
       "    </tr>\n",
       "    <tr>\n",
       "      <th>21593</th>\n",
       "      <td>-122.362</td>\n",
       "      <td>47.5107</td>\n",
       "    </tr>\n",
       "    <tr>\n",
       "      <th>21594</th>\n",
       "      <td>-122.299</td>\n",
       "      <td>47.5944</td>\n",
       "    </tr>\n",
       "    <tr>\n",
       "      <th>21595</th>\n",
       "      <td>-122.069</td>\n",
       "      <td>47.5345</td>\n",
       "    </tr>\n",
       "    <tr>\n",
       "      <th>21596</th>\n",
       "      <td>-122.299</td>\n",
       "      <td>47.5941</td>\n",
       "    </tr>\n",
       "  </tbody>\n",
       "</table>\n",
       "<p>21596 rows × 2 columns</p>\n",
       "</div>"
      ],
      "text/plain": [
       "          long      lat\n",
       "0     -122.257  47.5112\n",
       "1     -122.319  47.7210\n",
       "2     -122.233  47.7379\n",
       "3     -122.393  47.5208\n",
       "4     -122.045  47.6168\n",
       "...        ...      ...\n",
       "21592 -122.346  47.6993\n",
       "21593 -122.362  47.5107\n",
       "21594 -122.299  47.5944\n",
       "21595 -122.069  47.5345\n",
       "21596 -122.299  47.5941\n",
       "\n",
       "[21596 rows x 2 columns]"
      ]
     },
     "execution_count": 36,
     "metadata": {},
     "output_type": "execute_result"
    }
   ],
   "source": [
    "df[['long', 'lat']]"
   ]
  },
  {
   "cell_type": "code",
   "execution_count": 37,
   "metadata": {},
   "outputs": [
    {
     "data": {
      "text/plain": [
       "array([[<AxesSubplot:title={'center':'long'}>,\n",
       "        <AxesSubplot:title={'center':'lat'}>]], dtype=object)"
      ]
     },
     "execution_count": 37,
     "metadata": {},
     "output_type": "execute_result"
    },
    {
     "data": {
      "image/png": "[encoded data removed]",
      "text/plain": [
       "<Figure size 432x288 with 2 Axes>"
      ]
     },
     "metadata": {
      "needs_background": "light"
     },
     "output_type": "display_data"
    }
   ],
   "source": [
    "df[['long', 'lat']].hist()"
   ]
  },
  {
   "cell_type": "markdown",
   "metadata": {},
   "source": [
    "Since longitudinal values are negative here, log transforms will fail. Let's see how the model performs when we add the raw longitude/latitude values."
   ]
  },
  {
   "cell_type": "code",
   "execution_count": 38,
   "metadata": {},
   "outputs": [
    {
     "name": "stdout",
     "output_type": "stream",
     "text": [
      "Results for: LinearRegression()\n",
      "Train MSE: 0.26834358588170387 Validation MSE:  0.26656612530434576\n",
      "Train R2: 0.7405255080045351 Validation R2:  0.7425104781873002\n"
     ]
    }
   ],
   "source": [
    "geo_vars = ['long', 'lat']\n",
    "X = np.log1p(df[cont_vars]).join(df[geo_vars])\n",
    "\n",
    "X_train, X_val, y_train, y_val = train_test_split(X, y, test_size=0.2, random_state=0)\n",
    "\n",
    "linreg = LinearRegression()\n",
    "linreg.fit(X_train, y_train)\n",
    "\n",
    "y_train_preds = linreg.predict(X_train)\n",
    "y_val_preds = linreg.predict(X_val)\n",
    "\n",
    "get_eval_outputs(linreg, y_train, y_train_preds, y_val, y_val_preds, log_inputs=False)"
   ]
  },
  {
   "cell_type": "markdown",
   "metadata": {},
   "source": [
    "As it turns out, quite well! The model is able to use these rows of information without any further help. Why is that?"
   ]
  },
  {
   "cell_type": "code",
   "execution_count": 39,
   "metadata": {},
   "outputs": [
    {
     "data": {
      "text/plain": [
       "<AxesSubplot:xlabel='long', ylabel='lat'>"
      ]
     },
     "execution_count": 39,
     "metadata": {},
     "output_type": "execute_result"
    },
    {
     "data": {
      "image/png": "[encoded data removed]",
      "text/plain": [
       "<Figure size 432x288 with 1 Axes>"
      ]
     },
     "metadata": {
      "needs_background": "light"
     },
     "output_type": "display_data"
    }
   ],
   "source": [
    "sns.scatterplot(x=df['long'], y=df['lat'], hue=np.log1p(df['price']), alpha=0.5, s=5)"
   ]
  },
  {
   "cell_type": "markdown",
   "metadata": {},
   "source": [
    "We can see that there is a pattern to this data. \n",
    "\n",
    "Certain areas look like they are more expensive than others. Treating the longitude and latitude as a linear variable is quite crude, but luckily for us it sort of works. \n",
    "\n",
    "For instance, going up North looks like it leads to higher prices, which might be why the latitude includes a relatively high correlation. This won't necessarily work for other areas, though, where patterns based on latitude and longitude might be a lot more random.\n",
    "\n",
    "It will do for now, but we'll look at other ways to improve on this later.\n",
    "\n",
    "So what's left?"
   ]
  },
  {
   "cell_type": "code",
   "execution_count": 40,
   "metadata": {},
   "outputs": [
    {
     "data": {
      "text/plain": [
       "['id', 'date', 'price', 'waterfront', 'yr_built', 'yr_renovated', 'zipcode']"
      ]
     },
     "execution_count": 40,
     "metadata": {},
     "output_type": "execute_result"
    }
   ],
   "source": [
    "rem_cols = [c for c in df.columns if c not in cont_vars + geo_vars]\n",
    "rem_cols"
   ]
  },
  {
   "cell_type": "code",
   "execution_count": 41,
   "metadata": {},
   "outputs": [
    {
     "data": {
      "text/plain": [
       "zipcode        -0.053409\n",
       "id             -0.016763\n",
       "yr_built        0.053965\n",
       "yr_renovated    0.117858\n",
       "waterfront      0.264308\n",
       "price           1.000000\n",
       "Name: price, dtype: float64"
      ]
     },
     "execution_count": 41,
     "metadata": {},
     "output_type": "execute_result"
    }
   ],
   "source": [
    "df[rem_cols].corr()['price'].sort_values()"
   ]
  },
  {
   "cell_type": "markdown",
   "metadata": {},
   "source": [
    "These are the remaining variables. Let's treat the yr_built and yr_renovated as a linear variable, as well as waterfront which is one-hot encoded already."
   ]
  },
  {
   "cell_type": "code",
   "execution_count": 42,
   "metadata": {},
   "outputs": [
    {
     "data": {
      "text/plain": [
       "array([0., 1.])"
      ]
     },
     "execution_count": 42,
     "metadata": {},
     "output_type": "execute_result"
    }
   ],
   "source": [
    "df['waterfront'].unique()"
   ]
  },
  {
   "cell_type": "code",
   "execution_count": 43,
   "metadata": {},
   "outputs": [
    {
     "name": "stdout",
     "output_type": "stream",
     "text": [
      "Results for: LinearRegression()\n",
      "Train MSE: 0.25458092705644625 Validation MSE:  0.2520719020858052\n",
      "Train R2: 0.7664585567808921 Validation R2:  0.7697505936624042\n"
     ]
    }
   ],
   "source": [
    "lin_vars = ['yr_built', 'yr_renovated', 'waterfront']\n",
    "X = np.log1p(df[cont_vars]).join(df[geo_vars]).join(df[lin_vars])\n",
    "\n",
    "X_train, X_val, y_train, y_val = train_test_split(X, y, test_size=0.2, random_state=0)\n",
    "\n",
    "linreg = LinearRegression()\n",
    "linreg.fit(X_train, y_train)\n",
    "\n",
    "y_train_preds = linreg.predict(X_train)\n",
    "y_val_preds = linreg.predict(X_val)\n",
    "\n",
    "get_eval_outputs(linreg, y_train, y_train_preds, y_val, y_val_preds, log_inputs=False)"
   ]
  },
  {
   "cell_type": "markdown",
   "metadata": {},
   "source": [
    "That gets us to about 0.76-0.77 R2 value"
   ]
  },
  {
   "cell_type": "markdown",
   "metadata": {},
   "source": [
    "### Categorical variables"
   ]
  },
  {
   "cell_type": "markdown",
   "metadata": {},
   "source": [
    "Of the remaining columns, zipcode is an interesting one. It looks linear, but it's actually best treated as a categorical variable, as it indicates a place, and the zip code is somewhat arbitrary.\n",
    "\n",
    "(Although as you can see below - there is some relationship between zip code and location, it would likely not translate to a linear price-based relationship.)"
   ]
  },
  {
   "cell_type": "code",
   "execution_count": 44,
   "metadata": {},
   "outputs": [
    {
     "data": {
      "text/plain": [
       "<AxesSubplot:xlabel='long', ylabel='lat'>"
      ]
     },
     "execution_count": 44,
     "metadata": {},
     "output_type": "execute_result"
    },
    {
     "data": {
      "image/png": "[encoded data removed]",
      "text/plain": [
       "<Figure size 432x288 with 1 Axes>"
      ]
     },
     "metadata": {
      "needs_background": "light"
     },
     "output_type": "display_data"
    }
   ],
   "source": [
    "sns.scatterplot(x=df['long'], y=df['lat'], hue=df['zipcode'], alpha=0.5, s=5)"
   ]
  },
  {
   "cell_type": "markdown",
   "metadata": {},
   "source": [
    "So, the zip code is best expressed as a one-hot variable."
   ]
  },
  {
   "cell_type": "code",
   "execution_count": 45,
   "metadata": {},
   "outputs": [],
   "source": [
    "zip_dummies = pd.get_dummies(df['zipcode'].astype(str), drop_first=True, prefix='zip')"
   ]
  },
  {
   "cell_type": "code",
   "execution_count": 46,
   "metadata": {},
   "outputs": [
    {
     "name": "stdout",
     "output_type": "stream",
     "text": [
      "Results for: LinearRegression()\n",
      "Train MSE: 0.18170878569303212 Validation MSE:  0.17853791273513758\n",
      "Train R2: 0.88102270668445 Validation R2:  0.8844924031287729\n"
     ]
    }
   ],
   "source": [
    "X = np.log1p(df[cont_vars]).join(df[geo_vars]).join(df[lin_vars]).join(zip_dummies)\n",
    "\n",
    "X_train, X_val, y_train, y_val = train_test_split(X, y, test_size=0.2, random_state=0)\n",
    "\n",
    "linreg = LinearRegression()\n",
    "linreg.fit(X_train, y_train)\n",
    "\n",
    "y_train_preds = linreg.predict(X_train)\n",
    "y_val_preds = linreg.predict(X_val)\n",
    "\n",
    "get_eval_outputs(linreg, y_train, y_train_preds, y_val, y_val_preds, log_inputs=False)"
   ]
  },
  {
   "cell_type": "markdown",
   "metadata": {},
   "source": [
    "Our model has a R2 of about 0.88! And our MSE values are around 0.18; whereas we were at about 0.25. \n",
    "\n",
    "Keep in mind that R2 values go up as we add additional factors, so either remember to look at adjusted R2 values, and to look at MSE values.\n",
    "\n",
    "> NOTE: We want to make sure in cases like this that there is enough data in all zip codes. \n",
    ">\n",
    "> If we end up splitting up the dataset so much that each zip code column only contains a few houses, we will likely develop a model that is overfit"
   ]
  },
  {
   "cell_type": "code",
   "execution_count": 47,
   "metadata": {},
   "outputs": [
    {
     "data": {
      "text/plain": [
       "zip_98039     50\n",
       "zip_98148     57\n",
       "zip_98024     80\n",
       "zip_98010    100\n",
       "zip_98102    104\n",
       "            ... \n",
       "zip_98117    553\n",
       "zip_98052    574\n",
       "zip_98115    583\n",
       "zip_98038    589\n",
       "zip_98103    601\n",
       "Length: 69, dtype: int64"
      ]
     },
     "execution_count": 47,
     "metadata": {},
     "output_type": "execute_result"
    }
   ],
   "source": [
    "zip_dummies.sum().sort_values()"
   ]
  },
  {
   "cell_type": "markdown",
   "metadata": {},
   "source": [
    "Luckily for us, in our dataset even the area with the fewest data points have at least 50 properties, so that is probably okay.\n",
    "\n",
    "If we had fewer houses, we could use the first N digits of the zip code to group similar areas together, for instance. (Assuming that those zip codes neighbour each other.)"
   ]
  },
  {
   "cell_type": "code",
   "execution_count": 48,
   "metadata": {},
   "outputs": [
    {
     "data": {
      "text/plain": [
       "9818     136\n",
       "9806     308\n",
       "9809     351\n",
       "9815     446\n",
       "9817     517\n",
       "9816     523\n",
       "9819     597\n",
       "9801     609\n",
       "9814     688\n",
       "9813     756\n",
       "9804    1049\n",
       "9812    1053\n",
       "9807    1388\n",
       "9802    1828\n",
       "9810    1830\n",
       "9803    2270\n",
       "9811    2426\n",
       "9805    2574\n",
       "dtype: int64"
      ]
     },
     "execution_count": 48,
     "metadata": {},
     "output_type": "execute_result"
    }
   ],
   "source": [
    "sm_zip_dummies = pd.get_dummies(df['zipcode'].astype(str).str[:-1], drop_first=True)\n",
    "sm_zip_dummies.sum().sort_values()"
   ]
  },
  {
   "cell_type": "code",
   "execution_count": 49,
   "metadata": {},
   "outputs": [
    {
     "name": "stdout",
     "output_type": "stream",
     "text": [
      "Results for: LinearRegression()\n",
      "Train MSE: 0.2344381070437885 Validation MSE:  0.23188170393597177\n",
      "Train R2: 0.8019528283680035 Validation R2:  0.8051579868350669\n"
     ]
    }
   ],
   "source": [
    "X = np.log1p(df[cont_vars]).join(df[geo_vars]).join(df[lin_vars]).join(sm_zip_dummies)\n",
    "\n",
    "X_train, X_val, y_train, y_val = train_test_split(X, y, test_size=0.2, random_state=0)\n",
    "\n",
    "linreg = LinearRegression()\n",
    "linreg.fit(X_train, y_train)\n",
    "\n",
    "y_train_preds = linreg.predict(X_train)\n",
    "y_val_preds = linreg.predict(X_val)\n",
    "\n",
    "get_eval_outputs(linreg, y_train, y_train_preds, y_val, y_val_preds, log_inputs=False)"
   ]
  },
  {
   "cell_type": "markdown",
   "metadata": {},
   "source": [
    "But we will carry on with the full-sized model, as this isn't an issue for us."
   ]
  },
  {
   "cell_type": "markdown",
   "metadata": {},
   "source": [
    "## Date data"
   ]
  },
  {
   "cell_type": "markdown",
   "metadata": {},
   "source": [
    "So at this point, we have R2 values of around 0.88"
   ]
  },
  {
   "cell_type": "code",
   "execution_count": 50,
   "metadata": {},
   "outputs": [
    {
     "name": "stdout",
     "output_type": "stream",
     "text": [
      "Results for: LinearRegression()\n",
      "Train MSE: 0.18170878569303212 Validation MSE:  0.17853791273513758\n",
      "Train R2: 0.88102270668445 Validation R2:  0.8844924031287729\n"
     ]
    }
   ],
   "source": [
    "X = np.log1p(df[cont_vars]).join(df[geo_vars]).join(df[lin_vars]).join(zip_dummies)\n",
    "\n",
    "X_train, X_val, y_train, y_val = train_test_split(X, y, test_size=0.2, random_state=0)\n",
    "\n",
    "linreg = LinearRegression()\n",
    "linreg.fit(X_train, y_train)\n",
    "\n",
    "y_train_preds = linreg.predict(X_train)\n",
    "y_val_preds = linreg.predict(X_val)\n",
    "\n",
    "get_eval_outputs(linreg, y_train, y_train_preds, y_val, y_val_preds, log_inputs=False)"
   ]
  },
  {
   "cell_type": "code",
   "execution_count": 51,
   "metadata": {},
   "outputs": [
    {
     "data": {
      "text/plain": [
       "['id', 'date', 'price', 'lat', 'long']"
      ]
     },
     "execution_count": 51,
     "metadata": {},
     "output_type": "execute_result"
    }
   ],
   "source": [
    "rem_cols = [c for c in df.columns if c not in cont_vars + lin_vars + ['zipcode']]\n",
    "rem_cols"
   ]
  },
  {
   "cell_type": "markdown",
   "metadata": {},
   "source": [
    "We have the `id` and `date` variables left. We don't think the ID term means anything - take a look at this correlation number:"
   ]
  },
  {
   "cell_type": "code",
   "execution_count": 52,
   "metadata": {},
   "outputs": [
    {
     "data": {
      "text/html": [
       "<div>\n",
       "<style scoped>\n",
       "    .dataframe tbody tr th:only-of-type {\n",
       "        vertical-align: middle;\n",
       "    }\n",
       "\n",
       "    .dataframe tbody tr th {\n",
       "        vertical-align: top;\n",
       "    }\n",
       "\n",
       "    .dataframe thead th {\n",
       "        text-align: right;\n",
       "    }\n",
       "</style>\n",
       "<table border=\"1\" class=\"dataframe\">\n",
       "  <thead>\n",
       "    <tr style=\"text-align: right;\">\n",
       "      <th></th>\n",
       "      <th>id</th>\n",
       "      <th>price</th>\n",
       "    </tr>\n",
       "  </thead>\n",
       "  <tbody>\n",
       "    <tr>\n",
       "      <th>id</th>\n",
       "      <td>1.000000</td>\n",
       "      <td>-0.016763</td>\n",
       "    </tr>\n",
       "    <tr>\n",
       "      <th>price</th>\n",
       "      <td>-0.016763</td>\n",
       "      <td>1.000000</td>\n",
       "    </tr>\n",
       "  </tbody>\n",
       "</table>\n",
       "</div>"
      ],
      "text/plain": [
       "             id     price\n",
       "id     1.000000 -0.016763\n",
       "price -0.016763  1.000000"
      ]
     },
     "execution_count": 52,
     "metadata": {},
     "output_type": "execute_result"
    }
   ],
   "source": [
    "df[['id', 'price']].corr()"
   ]
  },
  {
   "cell_type": "markdown",
   "metadata": {},
   "source": [
    "And we can't use the price data to predict the price!"
   ]
  },
  {
   "cell_type": "markdown",
   "metadata": {},
   "source": [
    "But we haven't used the sale date data yet. Let's break down the date information to a further few columns, and see if there might be a relationship."
   ]
  },
  {
   "cell_type": "code",
   "execution_count": 53,
   "metadata": {},
   "outputs": [],
   "source": [
    "df['saleYr'] = df['date'].dt.year\n",
    "df['saleMonth'] = df['date'].dt.month\n",
    "df['saleDay'] = df['date'].dt.dayofweek"
   ]
  },
  {
   "cell_type": "code",
   "execution_count": 54,
   "metadata": {},
   "outputs": [
    {
     "data": {
      "text/html": [
       "<div>\n",
       "<style scoped>\n",
       "    .dataframe tbody tr th:only-of-type {\n",
       "        vertical-align: middle;\n",
       "    }\n",
       "\n",
       "    .dataframe tbody tr th {\n",
       "        vertical-align: top;\n",
       "    }\n",
       "\n",
       "    .dataframe thead th {\n",
       "        text-align: right;\n",
       "    }\n",
       "</style>\n",
       "<table border=\"1\" class=\"dataframe\">\n",
       "  <thead>\n",
       "    <tr style=\"text-align: right;\">\n",
       "      <th></th>\n",
       "      <th>saleYr</th>\n",
       "      <th>saleMonth</th>\n",
       "      <th>saleDay</th>\n",
       "      <th>price</th>\n",
       "    </tr>\n",
       "  </thead>\n",
       "  <tbody>\n",
       "    <tr>\n",
       "      <th>saleYr</th>\n",
       "      <td>1.000000</td>\n",
       "      <td>-0.782340</td>\n",
       "      <td>0.028771</td>\n",
       "      <td>0.003736</td>\n",
       "    </tr>\n",
       "    <tr>\n",
       "      <th>saleMonth</th>\n",
       "      <td>-0.782340</td>\n",
       "      <td>1.000000</td>\n",
       "      <td>-0.047850</td>\n",
       "      <td>-0.009926</td>\n",
       "    </tr>\n",
       "    <tr>\n",
       "      <th>saleDay</th>\n",
       "      <td>0.028771</td>\n",
       "      <td>-0.047850</td>\n",
       "      <td>1.000000</td>\n",
       "      <td>-0.001747</td>\n",
       "    </tr>\n",
       "    <tr>\n",
       "      <th>price</th>\n",
       "      <td>0.003736</td>\n",
       "      <td>-0.009926</td>\n",
       "      <td>-0.001747</td>\n",
       "      <td>1.000000</td>\n",
       "    </tr>\n",
       "  </tbody>\n",
       "</table>\n",
       "</div>"
      ],
      "text/plain": [
       "             saleYr  saleMonth   saleDay     price\n",
       "saleYr     1.000000  -0.782340  0.028771  0.003736\n",
       "saleMonth -0.782340   1.000000 -0.047850 -0.009926\n",
       "saleDay    0.028771  -0.047850  1.000000 -0.001747\n",
       "price      0.003736  -0.009926 -0.001747  1.000000"
      ]
     },
     "execution_count": 54,
     "metadata": {},
     "output_type": "execute_result"
    }
   ],
   "source": [
    "df[['saleYr', 'saleMonth', 'saleDay', 'price']].corr()"
   ]
  },
  {
   "cell_type": "code",
   "execution_count": 55,
   "metadata": {},
   "outputs": [
    {
     "data": {
      "text/plain": [
       "<seaborn.axisgrid.PairGrid at 0x12f26eec0>"
      ]
     },
     "execution_count": 55,
     "metadata": {},
     "output_type": "execute_result"
    },
    {
     "data": {
      "image/png": "[encoded data removed]",
      "text/plain": [
       "<Figure size 720x720 with 20 Axes>"
      ]
     },
     "metadata": {
      "needs_background": "light"
     },
     "output_type": "display_data"
    }
   ],
   "source": [
    "sns.pairplot(df[['saleYr', 'saleMonth', 'saleDay', 'price']])"
   ]
  },
  {
   "cell_type": "markdown",
   "metadata": {},
   "source": [
    "It looks like there might be something there in each of these categories - the sale month can be treated as one-hot, and let's simplify the day of the week information as weekday or weekend."
   ]
  },
  {
   "cell_type": "code",
   "execution_count": 56,
   "metadata": {},
   "outputs": [],
   "source": [
    "df['is_weekend'] = df['date'].dt.dayofweek > 4\n",
    "mth_dummies = pd.get_dummies(df['date'].dt.month.astype(str).str[:-1], drop_first=True)"
   ]
  },
  {
   "cell_type": "code",
   "execution_count": 57,
   "metadata": {},
   "outputs": [
    {
     "name": "stdout",
     "output_type": "stream",
     "text": [
      "Results for: LinearRegression()\n",
      "Train MSE: 0.18000654843697936 Validation MSE:  0.17666554971691475\n",
      "Train R2: 0.8832414100595296 Validation R2:  0.8869024022669569\n"
     ]
    }
   ],
   "source": [
    "lin_vars = ['yr_built', 'yr_renovated', 'waterfront', 'is_weekend', 'saleYr']\n",
    "X = np.log1p(df[cont_vars]).join(df[geo_vars]).join(df[lin_vars]).join(zip_dummies).join(mth_dummies)\n",
    "\n",
    "X_train, X_val, y_train, y_val = train_test_split(X, y, test_size=0.2, random_state=0)\n",
    "\n",
    "linreg = LinearRegression()\n",
    "linreg.fit(X_train, y_train)\n",
    "\n",
    "y_train_preds = linreg.predict(X_train)\n",
    "y_val_preds = linreg.predict(X_val)\n",
    "\n",
    "get_eval_outputs(linreg, y_train, y_train_preds, y_val, y_val_preds, log_inputs=False)"
   ]
  },
  {
   "cell_type": "markdown",
   "metadata": {},
   "source": [
    "It's made a tiny improvement to our metrics. "
   ]
  },
  {
   "cell_type": "markdown",
   "metadata": {},
   "source": [
    "## Interaction terms"
   ]
  },
  {
   "cell_type": "markdown",
   "metadata": {},
   "source": [
    "Let's go back to our correlation:"
   ]
  },
  {
   "cell_type": "code",
   "execution_count": 58,
   "metadata": {},
   "outputs": [
    {
     "data": {
      "text/plain": [
       "lat              0.306687\n",
       "bedrooms         0.315961\n",
       "sqft_basement    0.321103\n",
       "view             0.393502\n",
       "bathrooms        0.525915\n",
       "sqft_living15    0.585267\n",
       "sqft_above       0.605392\n",
       "grade            0.667964\n",
       "sqft_living      0.701929\n",
       "price            1.000000\n",
       "Name: price, dtype: float64"
      ]
     },
     "execution_count": 58,
     "metadata": {},
     "output_type": "execute_result"
    }
   ],
   "source": [
    "pric_corr = df.corr()['price'].sort_values()\n",
    "pric_corr[pric_corr.abs() > 0.3]"
   ]
  },
  {
   "cell_type": "markdown",
   "metadata": {},
   "source": [
    "Sometimes, adding what is called \"interaction terms\" can help the model, as variables do not always act independently.\n",
    "\n",
    "We can create columns which will indicate a weighted version of the size - for instance, the size of the living area or basement that is weighted by the grade.  "
   ]
  },
  {
   "cell_type": "code",
   "execution_count": 59,
   "metadata": {},
   "outputs": [],
   "source": [
    "df['gradeXsqft_living'] = df['grade'] * df['sqft_living']\n",
    "df['gradeXsqft_above'] = df['grade'] * df['sqft_above']\n",
    "df['gradeXsqft_basement'] = df['grade'] * df['sqft_basement']\n",
    "\n",
    "df['gradeXbathrooms'] = df['grade'] * df['bathrooms']\n",
    "df['gradeXbedrooms'] = df['grade'] * df['bedrooms']"
   ]
  },
  {
   "cell_type": "code",
   "execution_count": 60,
   "metadata": {},
   "outputs": [
    {
     "data": {
      "text/plain": [
       "lat                    0.306687\n",
       "bedrooms               0.315961\n",
       "sqft_basement          0.321103\n",
       "view                   0.393502\n",
       "gradeXsqft_basement    0.406562\n",
       "bathrooms              0.525915\n",
       "gradeXbedrooms         0.558175\n",
       "sqft_living15          0.585267\n",
       "sqft_above             0.605392\n",
       "gradeXbathrooms        0.655787\n",
       "grade                  0.667964\n",
       "gradeXsqft_above       0.677158\n",
       "sqft_living            0.701929\n",
       "gradeXsqft_living      0.756261\n",
       "price                  1.000000\n",
       "Name: price, dtype: float64"
      ]
     },
     "execution_count": 60,
     "metadata": {},
     "output_type": "execute_result"
    }
   ],
   "source": [
    "pric_corr = df.corr()['price'].sort_values()\n",
    "pric_corr[pric_corr.abs() > 0.3]"
   ]
  },
  {
   "cell_type": "markdown",
   "metadata": {},
   "source": [
    "Notice how these new columns have higher correlations than the original! \n",
    "\n",
    "They can help to overcome limitations of a linear model. We can also introduce polynomial terms such as below:"
   ]
  },
  {
   "cell_type": "code",
   "execution_count": 61,
   "metadata": {},
   "outputs": [],
   "source": [
    "df['sqft_livingSq'] = df['sqft_living'] * df['sqft_living']\n",
    "df['gradeSq'] = df['grade'] * df['grade']\n",
    "df['sqft_living15Sq'] = df['sqft_living15'] * df['sqft_living15']\n",
    "df['sqft_aboveSq'] = df['sqft_above'] * df['sqft_above']"
   ]
  },
  {
   "cell_type": "code",
   "execution_count": 62,
   "metadata": {},
   "outputs": [
    {
     "data": {
      "text/plain": [
       "lat                    0.306687\n",
       "bedrooms               0.315961\n",
       "sqft_basement          0.321103\n",
       "view                   0.393502\n",
       "gradeXsqft_basement    0.406562\n",
       "bathrooms              0.525915\n",
       "gradeXbedrooms         0.558175\n",
       "sqft_living15          0.585267\n",
       "sqft_living15Sq        0.600368\n",
       "sqft_above             0.605392\n",
       "sqft_aboveSq           0.632921\n",
       "gradeXbathrooms        0.655787\n",
       "grade                  0.667964\n",
       "gradeXsqft_above       0.677158\n",
       "gradeSq                0.692553\n",
       "sqft_living            0.701929\n",
       "sqft_livingSq          0.727328\n",
       "gradeXsqft_living      0.756261\n",
       "price                  1.000000\n",
       "Name: price, dtype: float64"
      ]
     },
     "execution_count": 62,
     "metadata": {},
     "output_type": "execute_result"
    }
   ],
   "source": [
    "pric_corr = df.corr()['price'].sort_values()\n",
    "pric_corr[pric_corr.abs() > 0.3]"
   ]
  },
  {
   "cell_type": "code",
   "execution_count": 63,
   "metadata": {},
   "outputs": [
    {
     "name": "stdout",
     "output_type": "stream",
     "text": [
      "Results for: LinearRegression()\n",
      "Train MSE: 0.17740019386911698 Validation MSE:  0.17431894709467619\n",
      "Train R2: 0.8865980786917366 Validation R2:  0.8898869403685125\n"
     ]
    }
   ],
   "source": [
    "int_terms = ['gradeXsqft_living', 'gradeXsqft_above', 'gradeXsqft_basement', \n",
    "             'gradeXbathrooms', 'gradeXbedrooms', \n",
    "             'sqft_livingSq', 'gradeSq', 'sqft_living15Sq', 'sqft_aboveSq']\n",
    "X = np.log1p(df[cont_vars]).join(df[geo_vars]).join(df[lin_vars]).join(zip_dummies).join(mth_dummies).join(df[int_terms])\n",
    "\n",
    "X_train, X_val, y_train, y_val = train_test_split(X, y, test_size=0.2, random_state=0)\n",
    "\n",
    "linreg = LinearRegression()\n",
    "linreg.fit(X_train, y_train)\n",
    "\n",
    "y_train_preds = linreg.predict(X_train)\n",
    "y_val_preds = linreg.predict(X_val)\n",
    "\n",
    "get_eval_outputs(linreg, y_train, y_train_preds, y_val, y_val_preds, log_inputs=False)"
   ]
  },
  {
   "cell_type": "markdown",
   "metadata": {},
   "source": [
    "That's pretty decent, with an R2 score of just a shade under 0.9"
   ]
  },
  {
   "cell_type": "code",
   "execution_count": 64,
   "metadata": {},
   "outputs": [
    {
     "data": {
      "text/plain": [
       "<AxesSubplot:xlabel='price', ylabel='price'>"
      ]
     },
     "execution_count": 64,
     "metadata": {},
     "output_type": "execute_result"
    },
    {
     "data": {
      "image/png": "[encoded data removed]",
      "text/plain": [
       "<Figure size 432x288 with 1 Axes>"
      ]
     },
     "metadata": {
      "needs_background": "light"
     },
     "output_type": "display_data"
    }
   ],
   "source": [
    "sns.scatterplot(x=y_val, y=y_val_preds)\n",
    "sns.lineplot(x=y_val, y=y_val, color='red', alpha=0.75)"
   ]
  },
  {
   "cell_type": "markdown",
   "metadata": {},
   "source": [
    "We can see a very good fit in our graph also"
   ]
  },
  {
   "cell_type": "markdown",
   "metadata": {},
   "source": [
    "## Making sense of the model"
   ]
  },
  {
   "cell_type": "markdown",
   "metadata": {},
   "source": [
    "Up to now, we haven't done anything to help us perform inference. Now that we have added all these features, we are up to quite a few columns."
   ]
  },
  {
   "cell_type": "code",
   "execution_count": 65,
   "metadata": {},
   "outputs": [
    {
     "data": {
      "text/plain": [
       "(21596, 98)"
      ]
     },
     "execution_count": 65,
     "metadata": {},
     "output_type": "execute_result"
    }
   ],
   "source": [
    "X.shape"
   ]
  },
  {
   "cell_type": "markdown",
   "metadata": {},
   "source": [
    "We can get the coefficients out from te model like so:"
   ]
  },
  {
   "cell_type": "code",
   "execution_count": 66,
   "metadata": {},
   "outputs": [
    {
     "data": {
      "text/plain": [
       "array([ 1.24524216e-01,  6.77114276e-02, -1.94105158e-02, -2.99919481e-02,\n",
       "       -3.39257919e-03,  1.65009785e-01,  2.68408182e-01, -3.06890420e-02,\n",
       "        5.97043868e-01,  1.07345468e-01,  4.45438367e-03,  1.73413223e-01,\n",
       "       -4.17418453e-01,  5.40428644e-01, -9.02104729e-05,  3.97963643e-05,\n",
       "        5.21964585e-01,  6.55392227e-03,  5.23890119e-02,  1.19260731e-02,\n",
       "       -2.04626677e-03,  9.81996268e-01,  6.10729630e-01,  5.64592516e-01,\n",
       "        5.33630548e-01,  5.56252413e-01,  3.19087290e-01,  2.46477845e-01,\n",
       "        2.72648305e-01,  2.25528658e-01,  2.03663640e-01, -5.76325504e-02,\n",
       "        4.28029536e-01,  4.92125527e-01,  1.92061812e-01,  5.93104439e-01,\n",
       "        5.25187747e-02,  6.06767285e-02, -4.65596847e-02,  6.27521589e-01,\n",
       "        3.55175038e-01,  2.37886530e-01,  1.10592228e+00,  7.58031459e-01,\n",
       "        9.60155507e-02,  4.59971850e-01,  5.05451643e-01,  4.91026452e-01,\n",
       "        1.01355154e-01,  2.57909315e-01,  1.43868126e-01,  3.00661316e-01,\n",
       "        4.52249574e-01,  1.76798984e-01,  2.92629065e-01,  4.84366754e-01,\n",
       "        5.05835231e-01,  2.75736499e-01,  6.53016311e-02,  8.22683317e-01,\n",
       "        6.45016495e-01,  7.81306670e-01,  2.30459525e-01,  6.60224593e-01,\n",
       "        2.52304935e-01,  8.17968218e-01,  9.06283225e-01,  6.33677262e-01,\n",
       "        6.11024799e-01,  6.08902845e-01,  3.66420134e-01,  7.86768314e-01,\n",
       "        6.86616515e-01,  3.65317381e-01,  4.20096865e-01,  2.22330641e-01,\n",
       "        5.31462840e-01,  5.51395645e-01,  1.39836363e-01,  6.90918287e-02,\n",
       "        1.89831123e-01,  2.09228632e-01, -2.69529544e-02,  3.33598023e-01,\n",
       "        7.11668249e-02,  3.19209936e-02,  9.99466052e-03,  6.59997349e-01,\n",
       "       -1.60586478e-03,  1.44390604e-05,  6.24123179e-06, -1.43258038e-06,\n",
       "        4.38851127e-03, -1.01078885e-03, -1.26611051e-08, -2.14739543e-03,\n",
       "       -1.65601483e-09, -3.29049077e-09])"
      ]
     },
     "execution_count": 66,
     "metadata": {},
     "output_type": "execute_result"
    }
   ],
   "source": [
    "linreg.coef_"
   ]
  },
  {
   "cell_type": "markdown",
   "metadata": {},
   "source": [
    "But they are relatively meaningless, as our features have not been scaled. For example:"
   ]
  },
  {
   "cell_type": "code",
   "execution_count": 67,
   "metadata": {},
   "outputs": [
    {
     "data": {
      "text/plain": [
       "view                1.609438\n",
       "sqft_lot            14.31711\n",
       "sqft_lot15         13.677628\n",
       "bedrooms            2.484907\n",
       "bathrooms           2.197225\n",
       "                     ...    \n",
       "gradeXbedrooms            99\n",
       "sqft_livingSq      183331600\n",
       "gradeSq                  169\n",
       "sqft_living15Sq     38564100\n",
       "sqft_aboveSq        88548100\n",
       "Length: 98, dtype: object"
      ]
     },
     "execution_count": 67,
     "metadata": {},
     "output_type": "execute_result"
    }
   ],
   "source": [
    "X.max()"
   ]
  },
  {
   "cell_type": "markdown",
   "metadata": {},
   "source": [
    "As these features vary so much, some have been log-transformed, and some not, isolating the effects of these are quite difficult. \n",
    "\n",
    "So let's min/max scale our data, and take another look"
   ]
  },
  {
   "cell_type": "code",
   "execution_count": 68,
   "metadata": {},
   "outputs": [],
   "source": [
    "X = np.log1p(df[cont_vars]).join(df[geo_vars]).join(df[lin_vars]).join(df[int_terms])\n",
    "X = X.astype(float)  # Data types were causing errors\n",
    "X = (X - X.mean()) / (X.max() - X.min())\n",
    "\n",
    "X = X.join(zip_dummies).join(mth_dummies)  # We do not wish to min/max scale the one-hot encodings"
   ]
  },
  {
   "cell_type": "code",
   "execution_count": 69,
   "metadata": {},
   "outputs": [
    {
     "name": "stdout",
     "output_type": "stream",
     "text": [
      "Results for: LinearRegression()\n",
      "Train MSE: 0.17740019386911696 Validation MSE:  0.17431894706095713\n",
      "Train R2: 0.8865980786917366 Validation R2:  0.8898869404111114\n"
     ]
    }
   ],
   "source": [
    "X_train, X_val, y_train, y_val = train_test_split(X, y, test_size=0.2, random_state=0)\n",
    "\n",
    "linreg = LinearRegression()\n",
    "linreg.fit(X_train, y_train)\n",
    "\n",
    "y_train_preds = linreg.predict(X_train)\n",
    "y_val_preds = linreg.predict(X_val)\n",
    "\n",
    "get_eval_outputs(linreg, y_train, y_train_preds, y_val, y_val_preds, log_inputs=False)"
   ]
  },
  {
   "cell_type": "markdown",
   "metadata": {},
   "source": [
    "Notice how for linear regression the results are not affected at all by scaling!"
   ]
  },
  {
   "cell_type": "code",
   "execution_count": 70,
   "metadata": {},
   "outputs": [
    {
     "data": {
      "text/plain": [
       "array([ 2.00413994e-01,  5.45846175e-01, -1.39708808e-01, -5.37383586e-02,\n",
       "       -6.07869039e-03,  5.93585639e-01,  2.94876527e-01, -2.48866725e-02,\n",
       "        7.47954450e-01,  3.47094306e-01,  3.77764546e-02,  4.75605292e-01,\n",
       "       -5.02571818e-01,  3.35984488e-01, -1.03742036e-02,  8.01896742e-02,\n",
       "        5.21964587e-01,  6.55392224e-03,  5.23890118e-02,  2.32353356e+00,\n",
       "        7.09128821e-01, -8.28604480e-02,  4.46531034e-01, -9.70357263e-02,\n",
       "       -2.31944732e+00, -3.43583280e-01, -6.35990695e-02, -2.90916334e-01,\n",
       "        1.19260732e-02, -2.04626659e-03,  9.81996268e-01,  6.10729631e-01,\n",
       "        5.64592516e-01,  5.33630547e-01,  5.56252413e-01,  3.19087290e-01,\n",
       "        2.46477845e-01,  2.72648306e-01,  2.25528658e-01,  2.03663639e-01,\n",
       "       -5.76325499e-02,  4.28029537e-01,  4.92125527e-01,  1.92061811e-01,\n",
       "        5.93104439e-01,  5.25187749e-02,  6.06767284e-02, -4.65596853e-02,\n",
       "        6.27521588e-01,  3.55175037e-01,  2.37886530e-01,  1.10592228e+00,\n",
       "        7.58031460e-01,  9.60155502e-02,  4.59971849e-01,  5.05451642e-01,\n",
       "        4.91026451e-01,  1.01355154e-01,  2.57909315e-01,  1.43868126e-01,\n",
       "        3.00661316e-01,  4.52249574e-01,  1.76798981e-01,  2.92629064e-01,\n",
       "        4.84366754e-01,  5.05835231e-01,  2.75736500e-01,  6.53016299e-02,\n",
       "        8.22683316e-01,  6.45016494e-01,  7.81306670e-01,  2.30459525e-01,\n",
       "        6.60224592e-01,  2.52304935e-01,  8.17968219e-01,  9.06283225e-01,\n",
       "        6.33677261e-01,  6.11024799e-01,  6.08902845e-01,  3.66420134e-01,\n",
       "        7.86768314e-01,  6.86616515e-01,  3.65317380e-01,  4.20096864e-01,\n",
       "        2.22330642e-01,  5.31462840e-01,  5.51395645e-01,  1.39836363e-01,\n",
       "        6.90918282e-02,  1.89831123e-01,  2.09228632e-01, -2.69529547e-02,\n",
       "        3.33598023e-01,  7.11668240e-02,  3.19209936e-02,  9.99466085e-03,\n",
       "        6.59997348e-01, -1.60586482e-03])"
      ]
     },
     "execution_count": 70,
     "metadata": {},
     "output_type": "execute_result"
    }
   ],
   "source": [
    "linreg.coef_"
   ]
  },
  {
   "cell_type": "markdown",
   "metadata": {},
   "source": [
    "Let's sort this by value, but get the indices of the sorted values - with `np.argsort`"
   ]
  },
  {
   "cell_type": "code",
   "execution_count": 71,
   "metadata": {},
   "outputs": [
    {
     "data": {
      "text/plain": [
       "array([97, 29,  4, 17, 95, 14, 28,  7, 91, 94, 10, 47, 18, 45,  3, 40, 46,\n",
       "       26, 67, 88, 93, 15, 21, 53, 23, 57,  2, 87, 59, 62, 89, 43,  0, 39,\n",
       "       90, 84, 38, 71, 50, 36, 73, 58, 37, 66, 27, 63,  6, 60, 35, 92, 13,\n",
       "       25,  9, 49, 82, 79, 83, 41, 22, 61, 54, 11, 64, 56, 42, 12, 55, 65,\n",
       "       16, 85, 33,  1, 86, 34, 32, 44,  5, 78, 31, 77, 48, 76, 69, 96, 72,\n",
       "       81, 20,  8, 52, 70, 80, 74, 68, 75, 30, 51, 24, 19])"
      ]
     },
     "execution_count": 71,
     "metadata": {},
     "output_type": "execute_result"
    }
   ],
   "source": [
    "coef_indices = np.argsort(np.abs(linreg.coef_))\n",
    "coef_indices"
   ]
  },
  {
   "cell_type": "markdown",
   "metadata": {},
   "source": [
    "And we can see which columns have the highest impact based on the existing model:"
   ]
  },
  {
   "cell_type": "code",
   "execution_count": 72,
   "metadata": {},
   "outputs": [
    {
     "name": "stdout",
     "output_type": "stream",
     "text": [
      "zip_98040\n",
      "zip_98105\n",
      "zip_98119\n",
      "zip_98109\n",
      "zip_98102\n",
      "zip_98112\n",
      "zip_98004\n",
      "zip_98039\n",
      "sqft_livingSq\n",
      "gradeXsqft_living\n"
     ]
    }
   ],
   "source": [
    "for c in coef_indices[-10:]:\n",
    "    print(X.columns[c])"
   ]
  },
  {
   "cell_type": "markdown",
   "metadata": {},
   "source": [
    "The two highest-coefficient columns are those we created - grade x sqft living, and a square of the sqft living space. The next ones are interestingly zip codes. \n",
    "\n",
    "If we google some of them, like:\n",
    "- 98039: https://www.google.com/maps/place/Medina,+WA+98039,+USA\n",
    "- 98004: https://www.google.com/maps/place/Bellevue,+WA+98004,+USA/\n",
    "\n",
    "They seem like expensive, affluent areas, so it intuitively makes sense that they show up as having a large impact as one-hot encoded variables."
   ]
  },
  {
   "cell_type": "markdown",
   "metadata": {},
   "source": [
    "Additionally, we could run this model through recursive feature elimination techniques to eliminate low-impact features, improve model interpretability and sometimes even improve performance."
   ]
  },
  {
   "cell_type": "markdown",
   "metadata": {},
   "source": [
    "#### Quantifying impacts of variables"
   ]
  },
  {
   "cell_type": "markdown",
   "metadata": {},
   "source": [
    "A few people were interested in isolating the impact of a particular variable (such as renovation). This is trickier than it sounds.  \n",
    "\n",
    "One way is to look at coefficients as as those above - but due to the various scaling factors, it may not give a most straightforward answer. But once we have identified the variables of interest, one way to quantify the impact of that variable is to use what is called a \"partial dependence\". \n",
    "\n",
    "These test the impact of a particular column, while holding all others constant. You can see why this is tricky - for example, if we were to vary the `sqft_livingSq` column, while holding others constant - it doesn't make sense, as we should also be modifying `sqft_living` column as well as the `gradeXsqft_living` column. \n",
    "\n",
    "Not to mention that the change in living space will impact other floor spaces also!\n",
    "\n",
    "But if you are interested, you can read more from:\n",
    "\n",
    "- https://scikit-learn.org/stable/modules/partial_dependence.html\n",
    "- https://scikit-learn.org/stable/modules/generated/sklearn.inspection.partial_dependence.html"
   ]
  },
  {
   "cell_type": "markdown",
   "metadata": {},
   "source": [
    "### Impact of the 33 bedroom house"
   ]
  },
  {
   "cell_type": "markdown",
   "metadata": {},
   "source": [
    "Remember at the data cleaning stage that we were dealing with one house which allegedly included 33 bedrooms?\n",
    "\n",
    "Initially, we had removed that data point as we thought it was erroneous. When we re-run the notebook without filtering out the below line\n",
    "```\n",
    "df = df[df['bedrooms'] < 20]\n",
    "```\n",
    "\n",
    "We see:\n",
    "```\n",
    "Train MSE: 0.17706768717038632 Validation MSE:  0.17562132251062323\n",
    "Train R2: 0.8877522950275409 Validation R2:  0.8853002812076904\n",
    "```\n",
    "\n",
    "This is very similar to our result with the 33 bedroom house filtered out:\n",
    "```\n",
    "Train MSE: 0.17740019386911696 Validation MSE:  0.17431894706095713\n",
    "Train R2: 0.8865980786917366 Validation R2:  0.8898869404111114\n",
    "```\n",
    "\n",
    "So in the end, this didn't make a huge difference. \n",
    "\n",
    "But with extreme outliers such as this, it is worth keeping an eye on. That's because it can potentially make a huge difference to the model, depending on for example the size of the dataset, or whether the number of rooms has been one-hot-encoded."
   ]
  },
  {
   "cell_type": "markdown",
   "metadata": {},
   "source": [
    "-----\n",
    "## BONUS Notes\n",
    "\n",
    "\n",
    "**These are outside the scope of this course**\n",
    "\n",
    "-----"
   ]
  },
  {
   "cell_type": "markdown",
   "metadata": {},
   "source": [
    "### Pipelines"
   ]
  },
  {
   "cell_type": "markdown",
   "metadata": {},
   "source": [
    "You've seen that we've applied many steps to our data, from cleaning, log transforms, ordinal encodings, one-hot encodings and scaling.\n",
    "\n",
    "These transforms were applied before using a train-test split on the validation set. However, when we have a test set, or new data points, the same transforms will need to be applied to our new, unseen data. \n",
    "\n",
    "So, we might additionally build what is called a \"pipeline\", through which we can simply pass a dataset through. This is outside the scope of our course, but if you are interested in reading further, here is Scikit-learn's documentation\n",
    "https://scikit-learn.org/stable/modules/compose.html#pipeline"
   ]
  },
  {
   "cell_type": "markdown",
   "metadata": {},
   "source": [
    "### Other model types"
   ]
  },
  {
   "cell_type": "markdown",
   "metadata": {},
   "source": [
    "Although we have not covered other types of regression models, there are many, many types of regression models. \n",
    "\n",
    "As a quick demo, here are some examples other types of regression model using Scikit-learn, which provides pre-built classes of many such types. \n",
    "\n",
    "Luckily for us, Scikit-learn provides a relatively consistent interface, which makes it very easy to go from one type of regressor to others.\n",
    "\n",
    "It can be quite difficult to \"tune\" these other, more complex models, due to additional parameters (hyper-parameters) that are required. But they can ultimately provide a slightly (or sometimes much) better better fit than what is possible from a linear model."
   ]
  },
  {
   "cell_type": "code",
   "execution_count": 73,
   "metadata": {},
   "outputs": [],
   "source": [
    "from sklearn.linear_model import Ridge\n",
    "from sklearn.ensemble import RandomForestRegressor\n",
    "from sklearn.ensemble import GradientBoostingRegressor"
   ]
  },
  {
   "cell_type": "code",
   "execution_count": 74,
   "metadata": {},
   "outputs": [
    {
     "name": "stdout",
     "output_type": "stream",
     "text": [
      "Results for: Ridge(alpha=1)\n",
      "Train MSE: 0.17807026505958898 Validation MSE:  0.1750140868909539\n",
      "Train R2: 0.8857397834729027 Validation R2:  0.8890069833690301\n"
     ]
    }
   ],
   "source": [
    "ridgereg = Ridge(alpha=1)\n",
    "ridgereg.fit(X_train, y_train)\n",
    "\n",
    "y_train_preds = ridgereg.predict(X_train)\n",
    "y_val_preds = ridgereg.predict(X_val)\n",
    "\n",
    "get_eval_outputs(ridgereg, y_train, y_train_preds, y_val, y_val_preds, log_inputs=False)"
   ]
  },
  {
   "cell_type": "code",
   "execution_count": 75,
   "metadata": {},
   "outputs": [
    {
     "name": "stdout",
     "output_type": "stream",
     "text": [
      "Results for: RandomForestRegressor(max_depth=20, max_features=0.9, min_samples_split=3,\n",
      "                      n_estimators=400)\n",
      "Train MSE: 0.07166156337054318 Validation MSE:  0.16869969749351366\n",
      "Train R2: 0.9814951832184727 Validation R2:  0.8968716071510079\n"
     ]
    }
   ],
   "source": [
    "rfreg = RandomForestRegressor(n_estimators=400, max_depth=20, min_samples_split=3, \n",
    "                              max_features=0.9)\n",
    "rfreg.fit(X_train, y_train)\n",
    "\n",
    "y_train_preds = rfreg.predict(X_train)\n",
    "y_val_preds = rfreg.predict(X_val)\n",
    "\n",
    "get_eval_outputs(rfreg, y_train, y_train_preds, y_val, y_val_preds, log_inputs=False)"
   ]
  },
  {
   "cell_type": "code",
   "execution_count": 76,
   "metadata": {},
   "outputs": [
    {
     "name": "stdout",
     "output_type": "stream",
     "text": [
      "Results for: RandomForestRegressor(max_depth=20, max_features=0.9, min_samples_split=3,\n",
      "                      n_estimators=400)\n",
      "Train MSE: 0.0718298996874718 Validation MSE:  0.16900871374020673\n",
      "Train R2: 0.9814081437726809 Validation R2:  0.8964934495509881\n"
     ]
    }
   ],
   "source": [
    "gbreg = GradientBoostingRegressor(n_estimators=400, learning_rate=0.1, subsample=0.9, min_samples_split=3, \n",
    "                                                     max_depth=20, max_features=0.9)\n",
    "rfreg.fit(X_train, y_train)\n",
    "\n",
    "y_train_preds = rfreg.predict(X_train)\n",
    "y_val_preds = rfreg.predict(X_val)\n",
    "\n",
    "get_eval_outputs(rfreg, y_train, y_train_preds, y_val, y_val_preds, log_inputs=False)"
   ]
  }
 ],
 "metadata": {
  "kernelspec": {
   "display_name": "Python 3",
   "language": "python",
   "name": "python3"
  },
  "language_info": {
   "codemirror_mode": {
    "name": "ipython",
    "version": 3
   },
   "file_extension": ".py",
   "mimetype": "text/x-python",
   "name": "python",
   "nbconvert_exporter": "python",
   "pygments_lexer": "ipython3",
   "version": "3.8.5"
  }
 },
 "nbformat": 4,
 "nbformat_minor": 5
}
